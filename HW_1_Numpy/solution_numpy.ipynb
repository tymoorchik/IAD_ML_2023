{
 "cells": [
  {
   "cell_type": "markdown",
   "id": "debda3a0-b335-4fdf-b958-6b89388a1d1c",
   "metadata": {},
   "source": [
    "# HW 1"
   ]
  },
  {
   "cell_type": "code",
   "execution_count": 15,
   "id": "238e3c1f-d366-4560-9a6d-a4bf00d2ba3c",
   "metadata": {},
   "outputs": [],
   "source": [
    "import numpy as np"
   ]
  },
  {
   "cell_type": "markdown",
   "id": "e7ae4db9-d934-4381-822e-0ccd94c1f066",
   "metadata": {},
   "source": [
    "### Ex. 1"
   ]
  },
  {
   "cell_type": "code",
   "execution_count": 14,
   "id": "cabf8244-9c5e-4a67-954f-e844280980cf",
   "metadata": {},
   "outputs": [],
   "source": [
    "def result_mark(weights: np.array, marks: np.array) -> int:\n",
    "    ## нам просто требуется скалярное произведнеие векторов\n",
    "    return round(np.dot(weights, marks))"
   ]
  },
  {
   "cell_type": "markdown",
   "id": "65d3dc05-5123-4203-9192-8a4490c69a97",
   "metadata": {},
   "source": [
    "checking:"
   ]
  },
  {
   "cell_type": "code",
   "execution_count": 16,
   "id": "cf59ecef-3f71-4de6-97a8-dbac9ec14574",
   "metadata": {},
   "outputs": [],
   "source": [
    "weights = np.array([0.3, 0.4, 0.2, 0.1])\n",
    "marks = np.array([7, 10, 8, 6])\n",
    "\n",
    "assert result_mark(weights, marks) == 8"
   ]
  },
  {
   "cell_type": "code",
   "execution_count": 17,
   "id": "242c8e9d-97d0-456f-b26a-57652af5becf",
   "metadata": {},
   "outputs": [],
   "source": [
    "weights = np.array([0.3, 0.4, 0.2, 0.1])\n",
    "marks = np.array([7, 0, 8, 6])\n",
    "\n",
    "assert result_mark(weights, marks) == 4"
   ]
  },
  {
   "cell_type": "markdown",
   "id": "a811de1b-7db6-4d58-aced-a5a73442e78f",
   "metadata": {},
   "source": [
    "### Ex. 2"
   ]
  },
  {
   "cell_type": "code",
   "execution_count": 5,
   "id": "422d3259-8cf6-449f-81fc-591e78cad180",
   "metadata": {},
   "outputs": [],
   "source": [
    "def change_array(array: np.array, number: int) -> np.array:\n",
    "    ## массив с шагом 3 (используется как индексы, на которые должно встать число)\n",
    "    a = np.arange(0, np.size(array), 3)\n",
    "    ## массив одинаоквых чисел (они равны поданномк на вход числу)\n",
    "    b = np.repeat(number, np.size(array) // 3 + 1)\n",
    "    ## функцией put заменяем в array заменяем элементы с индексами из b на числа из a \n",
    "    np.put(array, a, b)\n",
    "    return array"
   ]
  },
  {
   "cell_type": "markdown",
   "id": "d2593bb8-c06a-40d7-b940-f63f734eeaba",
   "metadata": {},
   "source": [
    "checking:"
   ]
  },
  {
   "cell_type": "code",
   "execution_count": 6,
   "id": "4be5678b-b54f-47ea-9845-5d5f96fccc3d",
   "metadata": {},
   "outputs": [],
   "source": [
    "array = np.array([3, 5, 1, 0, -3, 22, 213436])\n",
    "number = -111\n",
    "\n",
    "assert np.allclose(change_array(array, number), np.array([-111, 5, 1, -111, -3, 22, -111]))"
   ]
  },
  {
   "cell_type": "code",
   "execution_count": 7,
   "id": "d88ad885-617b-4f3d-9986-0ca0f80367d8",
   "metadata": {},
   "outputs": [],
   "source": [
    "array = np.array([3, 14, 15, 92, 6])\n",
    "number = 8\n",
    "\n",
    "assert np.allclose(change_array(array, number), np.array([8, 14, 15, 8, 6]))"
   ]
  },
  {
   "cell_type": "markdown",
   "id": "94407ad2-8413-4869-884d-dd907649a696",
   "metadata": {},
   "source": [
    "### Ex. 3"
   ]
  },
  {
   "cell_type": "code",
   "execution_count": 51,
   "id": "8e2c462d-2be6-4277-9135-96011eec4574",
   "metadata": {},
   "outputs": [],
   "source": [
    "def find_close(array1: np.array, array2: np.array, precision: float) -> np.array:\n",
    "    ## с помощью функции where ищем индексы, где разница не превышает precision, так как у нас получается массив массивов, то возвращаем 0 индекс\n",
    "    return (np.where(abs(array1 - array2) < precision))[0]"
   ]
  },
  {
   "cell_type": "markdown",
   "id": "8e4f3815-6bb2-46e2-81e3-b861a701b152",
   "metadata": {},
   "source": [
    "checking:"
   ]
  },
  {
   "cell_type": "code",
   "execution_count": 52,
   "id": "36914653-4979-4897-baf6-cb1c5d05f4c6",
   "metadata": {},
   "outputs": [],
   "source": [
    "array1 = np.array([1.5, 0.5, 2, -4.1, -3, 6, -1])\n",
    "array2 = np.array([1.2, 0.5, 1, -4.0,  3, 0, -1.2])\n",
    "precision = 0.5\n",
    "res = find_close(array1, array2, precision)\n",
    "\n",
    "assert res.ndim == 1\n",
    "assert np.allclose(res, np.array([0, 1, 3, 6]))"
   ]
  },
  {
   "cell_type": "code",
   "execution_count": 53,
   "id": "b8ed6b3c-b160-4ff7-9d3b-0a3a092bfe0f",
   "metadata": {},
   "outputs": [],
   "source": [
    "array1 = np.array([3.1415, 2.7182, 1.6180, 6.6261])\n",
    "array2 = np.array([6.6730, 1.3807, -1,     6.0222])\n",
    "precision = 1.7\n",
    "res = find_close(array1, array2, precision)\n",
    "\n",
    "assert res.ndim == 1\n",
    "assert np.allclose(res, np.array([1, 3]))"
   ]
  },
  {
   "cell_type": "markdown",
   "id": "f5664826-c5a9-4b86-92c9-0ce548896904",
   "metadata": {},
   "source": [
    "### Ex. 4"
   ]
  },
  {
   "cell_type": "code",
   "execution_count": 54,
   "id": "d1bc01c3-3b18-414f-bbf0-7be11eefd175",
   "metadata": {},
   "outputs": [],
   "source": [
    "def block_matrix(block: np.array) -> np.array:\n",
    "    ## просто используем block\n",
    "    return np.block([[block, block],\n",
    "                      [block, block]])"
   ]
  },
  {
   "cell_type": "markdown",
   "id": "5f4c940d-5593-4854-a9b1-24a4800c32c9",
   "metadata": {},
   "source": [
    "checking:"
   ]
  },
  {
   "cell_type": "code",
   "execution_count": 55,
   "id": "2b623be1-d780-4eb4-af18-526770624040",
   "metadata": {},
   "outputs": [],
   "source": [
    "block = np.array([[1, 3, 3], [7, 0, 0]])\n",
    "\n",
    "assert np.allclose(\n",
    "    block_matrix(block),\n",
    "    np.array([[1, 3, 3, 1, 3, 3],\n",
    "              [7, 0, 0, 7, 0, 0],\n",
    "              [1, 3, 3, 1, 3, 3],\n",
    "              [7, 0, 0, 7, 0, 0]])\n",
    ")"
   ]
  },
  {
   "cell_type": "markdown",
   "id": "b8aa695e-e8cb-4a2a-8f01-f93d2ef30e82",
   "metadata": {},
   "source": [
    "### Ex. 5"
   ]
  },
  {
   "cell_type": "code",
   "execution_count": 56,
   "id": "defaca31-98b8-4971-ab98-89da21b176c7",
   "metadata": {},
   "outputs": [],
   "source": [
    "def diag_prod(matrix: np.array) -> int:\n",
    "    ## получаем массив, содержащий элементы диагонали с помощью diagonal, выбираем неравные нулю и перемножаем, используя prod\n",
    "    return np.diagonal(matrix)[np.diagonal(matrix) != 0].prod()"
   ]
  },
  {
   "cell_type": "markdown",
   "id": "25505005-25be-4d62-94af-79940c70db90",
   "metadata": {},
   "source": [
    "checking:"
   ]
  },
  {
   "cell_type": "code",
   "execution_count": 57,
   "id": "0674bb76-9ba2-41f8-8314-4f812f53c50f",
   "metadata": {},
   "outputs": [],
   "source": [
    "matrix = np.array([[0, 1, 2, 3],\n",
    "                   [4, 5, 6, 7],\n",
    "                   [8, 9, 10, 11],\n",
    "                   [12, 13, 14, 15]])\n",
    "\n",
    "assert diag_prod(matrix) == 750"
   ]
  },
  {
   "cell_type": "markdown",
   "id": "3d7ef9fc-cf60-4271-89d3-799ffb7cbdae",
   "metadata": {},
   "source": [
    "### Ex. 6"
   ]
  },
  {
   "cell_type": "code",
   "execution_count": 58,
   "id": "aa35d430-a630-4080-a614-fca42cc601aa",
   "metadata": {},
   "outputs": [],
   "source": [
    "def normalize(matrix: np.array) -> np.array:\n",
    "    ## массив средних значений по столбцам\n",
    "    avg = np.array(np.mean(matrix, axis=0))\n",
    "    ## массив отклонений по столбцам\n",
    "    dev = np.array(np.std(matrix, axis=0))\n",
    "    ## в дальнейшем может возникнуть деление на 0, то есть в таком случае среднеквадратичное значение равно 0, что бывает только \n",
    "    ## в одном случае - когда все значения столбца равны. Поэтому при вычитании средних значений у нас получится нулевой столбец, который\n",
    "    ## который не изменится при делении на 1, поэтому нулевые отклонения заменяем на единичные\n",
    "    dev[dev == 0] = 1;\n",
    "    return (matrix - avg) / dev"
   ]
  },
  {
   "cell_type": "markdown",
   "id": "9e375f16-c81a-4353-9511-0e628d49f6f2",
   "metadata": {},
   "source": [
    "checking:"
   ]
  },
  {
   "cell_type": "code",
   "execution_count": 59,
   "id": "7832e193-19dc-4675-a2b5-213726842713",
   "metadata": {},
   "outputs": [],
   "source": [
    "matrix = np.array([[1, 4, 4200], [0, 10, 5000], [1, 2, 1000]])\n",
    "\n",
    "assert np.allclose(\n",
    "    normalize(matrix),\n",
    "    np.array([[ 0.7071, -0.39223,  0.46291],\n",
    "              [-1.4142,  1.37281,  0.92582],\n",
    "              [ 0.7071, -0.98058, -1.38873]])\n",
    ")"
   ]
  },
  {
   "cell_type": "code",
   "execution_count": 60,
   "id": "5d2d9d4d-40f2-413a-a09d-a39ad547a053",
   "metadata": {},
   "outputs": [],
   "source": [
    "matrix = np.array([[-7, 2, 42], [2, 10, 50], [5, 4, 10]])\n",
    "\n",
    "assert np.allclose(\n",
    "    normalize(matrix),\n",
    "    np.array([[-1.37281, -0.98058,  0.46291],\n",
    "              [ 0.39223,  1.37281,  0.92582],\n",
    "              [ 0.98058, -0.39223, -1.38873]])\n",
    ")"
   ]
  },
  {
   "cell_type": "markdown",
   "id": "ad0ddd49-8ee3-480c-82df-6bc9d17a24eb",
   "metadata": {},
   "source": [
    "### Ex. 7"
   ]
  },
  {
   "cell_type": "code",
   "execution_count": 61,
   "id": "0edd6d32-3ad0-4055-b14c-e9da50a9a167",
   "metadata": {},
   "outputs": [],
   "source": [
    "def prevZeroMax(matrix: np.array) -> int:\n",
    "    ## используя where ищем элементы равные нулю (а именно их индексы)\n",
    "    a = np.where(matrix[:np.size(matrix) - 1] == 0)\n",
    "    ## прибавляем 1 к полученному массиву, то есть переходя от индексов со значением 0 к индексам элементов, которые идут сразу после них\n",
    "    a += np.repeat(1, np.size(a))\n",
    "    ## ищем максимум\n",
    "    return max(matrix[a][0])"
   ]
  },
  {
   "cell_type": "markdown",
   "id": "27bf6a1a-bddf-4ac9-91a8-a651cf25339a",
   "metadata": {},
   "source": [
    "checking:"
   ]
  },
  {
   "cell_type": "code",
   "execution_count": 62,
   "id": "00b03639-a1fe-4371-91b8-845118e08472",
   "metadata": {},
   "outputs": [],
   "source": [
    "coefs = np.array([6, 2, 0, 3, 0, 0, 5, 7, 0])\n",
    "\n",
    "assert  prevZeroMax(coefs) == 5"
   ]
  },
  {
   "cell_type": "code",
   "execution_count": 63,
   "id": "88b256dd-bc6b-4ef3-bbe0-f694979a72a5",
   "metadata": {},
   "outputs": [],
   "source": [
    "coefs = np.array([1, 0, 1, 0, 4, 2, 0])\n",
    "\n",
    "assert prevZeroMax(coefs) == 4"
   ]
  },
  {
   "cell_type": "markdown",
   "id": "6a1db5bc-be7d-414f-8ea1-a6bb43436814",
   "metadata": {},
   "source": [
    "### Ex. 8"
   ]
  },
  {
   "cell_type": "code",
   "execution_count": 64,
   "id": "ed5d9d87-2a91-4e21-8ee8-b57ca427cca2",
   "metadata": {},
   "outputs": [],
   "source": [
    "def make_symmetric(matrix: np.array) -> np.array:\n",
    "    ## сумма матрицы с ее транспонированной версией с вычитанием диагональных элементов\n",
    "    return matrix + matrix.T - np.diag(np.diagonal(matrix))"
   ]
  },
  {
   "cell_type": "markdown",
   "id": "5f10b8be-7845-4440-ac5a-d9e1087835b2",
   "metadata": {},
   "source": [
    "checking:"
   ]
  },
  {
   "cell_type": "code",
   "execution_count": 65,
   "id": "4c5020c6-6806-49c5-a024-a29a7f90d114",
   "metadata": {},
   "outputs": [],
   "source": [
    "matrix = np.array([[1, 2, 3, 4], [0, 5, 6, 7], [0, 0, 8, 9], [0, 0, 0, 10]])\n",
    "\n",
    "assert np.allclose(\n",
    "    make_symmetric(matrix),\n",
    "    np.array([[ 1,  2,  3,  4],\n",
    "              [ 2,  5,  6,  7],\n",
    "              [ 3,  6,  8,  9],\n",
    "              [ 4,  7,  9, 10]])\n",
    ")"
   ]
  },
  {
   "cell_type": "code",
   "execution_count": 66,
   "id": "8ba13eed-47d3-4949-a27d-371a6c24d686",
   "metadata": {},
   "outputs": [],
   "source": [
    "matrix = np.array([[10, 21, 32, 49], [0, 53, 62, 78], [0, 0, 82, 92], [0, 0, 0, 10]])\n",
    "\n",
    "assert np.allclose(\n",
    "    make_symmetric(matrix),\n",
    "    np.array([[10, 21, 32, 49],\n",
    "              [21, 53, 62, 78],\n",
    "              [32, 62, 82, 92],\n",
    "              [49, 78, 92, 10]])\n",
    ")"
   ]
  },
  {
   "cell_type": "markdown",
   "id": "e8ee5649-2533-4f3b-9ec1-e701de6d0572",
   "metadata": {},
   "source": [
    "### Ex. 9"
   ]
  },
  {
   "cell_type": "code",
   "execution_count": 67,
   "id": "a0eb2a04-641a-45d8-ada8-1bd4442732f9",
   "metadata": {},
   "outputs": [],
   "source": [
    "def construct_matrix(m: int, a: int, b: int) -> np.array:\n",
    "    ## массив размером m на (b - a + 1) заполненный массивами с числами от a до b\n",
    "    return np.full((m, b - a + 1), range(a, b + 1))"
   ]
  },
  {
   "cell_type": "markdown",
   "id": "1fa75457-d664-41fb-aa18-6cf7b371188c",
   "metadata": {},
   "source": [
    "checking:"
   ]
  },
  {
   "cell_type": "code",
   "execution_count": 68,
   "id": "057e2e71-e1c7-4cd7-95c8-3783e4a3c0a4",
   "metadata": {},
   "outputs": [],
   "source": [
    "m = 5\n",
    "a = 3\n",
    "b = 10\n",
    "\n",
    "assert np.allclose(\n",
    "    construct_matrix(m, a, b),\n",
    "    np.array([[ 3,  4,  5,  6,  7,  8,  9, 10],\n",
    "              [ 3,  4,  5,  6,  7,  8,  9, 10],\n",
    "              [ 3,  4,  5,  6,  7,  8,  9, 10],\n",
    "              [ 3,  4,  5,  6,  7,  8,  9, 10],\n",
    "              [ 3,  4,  5,  6,  7,  8,  9, 10]])\n",
    ")"
   ]
  },
  {
   "cell_type": "code",
   "execution_count": 69,
   "id": "378cb4f8-7fa9-4a28-a780-b7f5e3b2e85e",
   "metadata": {},
   "outputs": [],
   "source": [
    "m = 3\n",
    "a = 2\n",
    "b = 6\n",
    "\n",
    "assert np.allclose(\n",
    "    construct_matrix(m, a, b),\n",
    "    np.array([[2, 3, 4, 5, 6],\n",
    "              [2, 3, 4, 5, 6],\n",
    "              [2, 3, 4, 5, 6]])\n",
    ")"
   ]
  },
  {
   "cell_type": "markdown",
   "id": "a43cb860-3dea-4f21-9ada-c5b0a29725f1",
   "metadata": {},
   "source": [
    "### Ex. 10"
   ]
  },
  {
   "cell_type": "code",
   "execution_count": 70,
   "id": "f19a762f-2434-42a1-8b6b-738507b8cedd",
   "metadata": {},
   "outputs": [],
   "source": [
    "def cosine_similarity(vec1: np.array, vec2: np.array) -> float:\n",
    "    ## стандартная формула косинуса. проверка, что ни одна из длин векторов ненулевая не нужна т. к. косинусовая \n",
    "    ## близость - это характеристика ненулевых векторов\n",
    "    return np.dot(vec1, vec2) / (np.linalg.norm(vec1) * np.linalg.norm(vec2))"
   ]
  },
  {
   "cell_type": "markdown",
   "id": "53654058-0371-41e8-a22f-e8870d646f71",
   "metadata": {},
   "source": [
    "checking:"
   ]
  },
  {
   "cell_type": "code",
   "execution_count": 28,
   "id": "285e8070-c1f5-4d02-bb6a-9b1265b74eb3",
   "metadata": {},
   "outputs": [],
   "source": [
    "vec1 = np.array([-2, 1,  0, -5, 4, 3, -3])\n",
    "vec2 = np.array([ 0, 2, -2, 10, 6, 0,  0])\n",
    "\n",
    "assert np.allclose(cosine_similarity(vec1, vec2), -0.25)"
   ]
  },
  {
   "cell_type": "code",
   "execution_count": 29,
   "id": "78a3611b-b1c7-43a3-82bd-250c76ab836c",
   "metadata": {},
   "outputs": [],
   "source": [
    "vec1 = np.array([-4, 2,  9, -8, 9, 0, -2])\n",
    "vec2 = np.array([ 3, 2, -4, -1, 3, 2,  2])\n",
    "\n",
    "assert np.allclose(cosine_similarity(vec1, vec2), -0.119929)"
   ]
  }
 ],
 "metadata": {
  "kernelspec": {
   "display_name": "Python 3 (ipykernel)",
   "language": "python",
   "name": "python3"
  },
  "language_info": {
   "codemirror_mode": {
    "name": "ipython",
    "version": 3
   },
   "file_extension": ".py",
   "mimetype": "text/x-python",
   "name": "python",
   "nbconvert_exporter": "python",
   "pygments_lexer": "ipython3",
   "version": "3.9.13"
  }
 },
 "nbformat": 4,
 "nbformat_minor": 5
}
