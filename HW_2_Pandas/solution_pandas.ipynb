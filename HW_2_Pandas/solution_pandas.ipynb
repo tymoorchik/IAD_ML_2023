{
 "cells": [
  {
   "cell_type": "code",
   "execution_count": 57,
   "id": "d19490e9-2bfb-4388-80ce-fb1d8ad50d8a",
   "metadata": {},
   "outputs": [],
   "source": [
    "import pandas as pd"
   ]
  },
  {
   "cell_type": "markdown",
   "id": "dce73e29-ffd3-43d9-9edb-40b456cfa2e1",
   "metadata": {},
   "source": [
    "### Ex. 1"
   ]
  },
  {
   "cell_type": "code",
   "execution_count": 58,
   "id": "f28cdcde-22d8-497d-a68a-e25a988fdf5b",
   "metadata": {},
   "outputs": [
    {
     "name": "stdout",
     "output_type": "stream",
     "text": [
      "Requirement already satisfied: pip in c:\\users\\proko\\appdata\\local\\programs\\python\\python39\\lib\\site-packages (24.0)\n",
      "Requirement already satisfied: wget in c:\\users\\proko\\appdata\\local\\programs\\python\\python39\\lib\\site-packages (3.2)\n"
     ]
    },
    {
     "name": "stderr",
     "output_type": "stream",
     "text": [
      "\"wget\" ­Ґ пў«пҐвбп ў­гваҐ­­Ґ© Ё«Ё ў­Ґи­Ґ©\n",
      "Є®¬ ­¤®©, ЁбЇ®«­пҐ¬®© Їа®Ја ¬¬®© Ё«Ё Ї ЄҐв­л¬ д ©«®¬.\n",
      "\"unzip\" ­Ґ пў«пҐвбп ў­гваҐ­­Ґ© Ё«Ё ў­Ґи­Ґ©\n",
      "Є®¬ ­¤®©, ЁбЇ®«­пҐ¬®© Їа®Ја ¬¬®© Ё«Ё Ї ЄҐв­л¬ д ©«®¬.\n"
     ]
    }
   ],
   "source": [
    "!pip install wget\n",
    "!wget https://github.com/hse-ds/iad-intro-ds/raw/master/2023/homeworks/Data.zip\n",
    "!unzip Data.zip"
   ]
  },
  {
   "cell_type": "code",
   "execution_count": 59,
   "id": "5a0a3bba-180c-4645-995a-2c1397cd0274",
   "metadata": {},
   "outputs": [
    {
     "ename": "FileNotFoundError",
     "evalue": "[Errno 2] No such file or directory: 'Data/Students_info_0.csv'",
     "output_type": "error",
     "traceback": [
      "\u001b[1;31m---------------------------------------------------------------------------\u001b[0m",
      "\u001b[1;31mFileNotFoundError\u001b[0m                         Traceback (most recent call last)",
      "Cell \u001b[1;32mIn[59], line 6\u001b[0m\n\u001b[0;32m      1\u001b[0m df \u001b[38;5;241m=\u001b[39m pd\u001b[38;5;241m.\u001b[39mDataFrame()\n\u001b[0;32m      2\u001b[0m \u001b[38;5;66;03m# Вообще могу предложить два способа: складывать с помощью функции concat данные из файлов marks и info с параметром axis=1\u001b[39;00m\n\u001b[0;32m      3\u001b[0m \u001b[38;5;66;03m# и потом сложить уже полученные таблицы опять же с помощью concat. Это работает, но будет два столбика index + если \u001b[39;00m\n\u001b[0;32m      4\u001b[0m \u001b[38;5;66;03m# индексы будут идти не по порядку в двух файликах, то ничего не будет работать. Поэтому лучше использовать merge (предварительно\u001b[39;00m\n\u001b[0;32m      5\u001b[0m \u001b[38;5;66;03m# сложив concat'ом все info и marks\u001b[39;00m\n\u001b[1;32m----> 6\u001b[0m df_info \u001b[38;5;241m=\u001b[39m pd\u001b[38;5;241m.\u001b[39mconcat([pd\u001b[38;5;241m.\u001b[39mread_csv(\u001b[38;5;124m\"\u001b[39m\u001b[38;5;124mData/Students_info_\u001b[39m\u001b[38;5;124m\"\u001b[39m \u001b[38;5;241m+\u001b[39m \u001b[38;5;28mstr\u001b[39m(i) \u001b[38;5;241m+\u001b[39m \u001b[38;5;124m\"\u001b[39m\u001b[38;5;124m.csv\u001b[39m\u001b[38;5;124m\"\u001b[39m, sep\u001b[38;5;241m=\u001b[39m\u001b[38;5;124m\"\u001b[39m\u001b[38;5;124m,\u001b[39m\u001b[38;5;124m\"\u001b[39m) \u001b[38;5;28;01mfor\u001b[39;00m i \u001b[38;5;129;01min\u001b[39;00m \u001b[38;5;28mrange\u001b[39m(\u001b[38;5;241m10\u001b[39m)])\n\u001b[0;32m      7\u001b[0m df_marks \u001b[38;5;241m=\u001b[39m pd\u001b[38;5;241m.\u001b[39mconcat([pd\u001b[38;5;241m.\u001b[39mread_csv(\u001b[38;5;124m\"\u001b[39m\u001b[38;5;124mData/Students_marks_\u001b[39m\u001b[38;5;124m\"\u001b[39m \u001b[38;5;241m+\u001b[39m \u001b[38;5;28mstr\u001b[39m(i) \u001b[38;5;241m+\u001b[39m \u001b[38;5;124m\"\u001b[39m\u001b[38;5;124m.csv\u001b[39m\u001b[38;5;124m\"\u001b[39m, sep\u001b[38;5;241m=\u001b[39m\u001b[38;5;124m\"\u001b[39m\u001b[38;5;124m,\u001b[39m\u001b[38;5;124m\"\u001b[39m) \u001b[38;5;28;01mfor\u001b[39;00m i \u001b[38;5;129;01min\u001b[39;00m \u001b[38;5;28mrange\u001b[39m(\u001b[38;5;241m10\u001b[39m)])\n\u001b[0;32m      8\u001b[0m df \u001b[38;5;241m=\u001b[39m pd\u001b[38;5;241m.\u001b[39mmerge(df_info, df_marks, on\u001b[38;5;241m=\u001b[39m\u001b[38;5;124m\"\u001b[39m\u001b[38;5;124mindex\u001b[39m\u001b[38;5;124m\"\u001b[39m)\n",
      "Cell \u001b[1;32mIn[59], line 6\u001b[0m, in \u001b[0;36m<listcomp>\u001b[1;34m(.0)\u001b[0m\n\u001b[0;32m      1\u001b[0m df \u001b[38;5;241m=\u001b[39m pd\u001b[38;5;241m.\u001b[39mDataFrame()\n\u001b[0;32m      2\u001b[0m \u001b[38;5;66;03m# Вообще могу предложить два способа: складывать с помощью функции concat данные из файлов marks и info с параметром axis=1\u001b[39;00m\n\u001b[0;32m      3\u001b[0m \u001b[38;5;66;03m# и потом сложить уже полученные таблицы опять же с помощью concat. Это работает, но будет два столбика index + если \u001b[39;00m\n\u001b[0;32m      4\u001b[0m \u001b[38;5;66;03m# индексы будут идти не по порядку в двух файликах, то ничего не будет работать. Поэтому лучше использовать merge (предварительно\u001b[39;00m\n\u001b[0;32m      5\u001b[0m \u001b[38;5;66;03m# сложив concat'ом все info и marks\u001b[39;00m\n\u001b[1;32m----> 6\u001b[0m df_info \u001b[38;5;241m=\u001b[39m pd\u001b[38;5;241m.\u001b[39mconcat([\u001b[43mpd\u001b[49m\u001b[38;5;241;43m.\u001b[39;49m\u001b[43mread_csv\u001b[49m\u001b[43m(\u001b[49m\u001b[38;5;124;43m\"\u001b[39;49m\u001b[38;5;124;43mData/Students_info_\u001b[39;49m\u001b[38;5;124;43m\"\u001b[39;49m\u001b[43m \u001b[49m\u001b[38;5;241;43m+\u001b[39;49m\u001b[43m \u001b[49m\u001b[38;5;28;43mstr\u001b[39;49m\u001b[43m(\u001b[49m\u001b[43mi\u001b[49m\u001b[43m)\u001b[49m\u001b[43m \u001b[49m\u001b[38;5;241;43m+\u001b[39;49m\u001b[43m \u001b[49m\u001b[38;5;124;43m\"\u001b[39;49m\u001b[38;5;124;43m.csv\u001b[39;49m\u001b[38;5;124;43m\"\u001b[39;49m\u001b[43m,\u001b[49m\u001b[43m \u001b[49m\u001b[43msep\u001b[49m\u001b[38;5;241;43m=\u001b[39;49m\u001b[38;5;124;43m\"\u001b[39;49m\u001b[38;5;124;43m,\u001b[39;49m\u001b[38;5;124;43m\"\u001b[39;49m\u001b[43m)\u001b[49m \u001b[38;5;28;01mfor\u001b[39;00m i \u001b[38;5;129;01min\u001b[39;00m \u001b[38;5;28mrange\u001b[39m(\u001b[38;5;241m10\u001b[39m)])\n\u001b[0;32m      7\u001b[0m df_marks \u001b[38;5;241m=\u001b[39m pd\u001b[38;5;241m.\u001b[39mconcat([pd\u001b[38;5;241m.\u001b[39mread_csv(\u001b[38;5;124m\"\u001b[39m\u001b[38;5;124mData/Students_marks_\u001b[39m\u001b[38;5;124m\"\u001b[39m \u001b[38;5;241m+\u001b[39m \u001b[38;5;28mstr\u001b[39m(i) \u001b[38;5;241m+\u001b[39m \u001b[38;5;124m\"\u001b[39m\u001b[38;5;124m.csv\u001b[39m\u001b[38;5;124m\"\u001b[39m, sep\u001b[38;5;241m=\u001b[39m\u001b[38;5;124m\"\u001b[39m\u001b[38;5;124m,\u001b[39m\u001b[38;5;124m\"\u001b[39m) \u001b[38;5;28;01mfor\u001b[39;00m i \u001b[38;5;129;01min\u001b[39;00m \u001b[38;5;28mrange\u001b[39m(\u001b[38;5;241m10\u001b[39m)])\n\u001b[0;32m      8\u001b[0m df \u001b[38;5;241m=\u001b[39m pd\u001b[38;5;241m.\u001b[39mmerge(df_info, df_marks, on\u001b[38;5;241m=\u001b[39m\u001b[38;5;124m\"\u001b[39m\u001b[38;5;124mindex\u001b[39m\u001b[38;5;124m\"\u001b[39m)\n",
      "File \u001b[1;32m~\\AppData\\Local\\Programs\\Python\\Python39\\lib\\site-packages\\pandas\\io\\parsers\\readers.py:912\u001b[0m, in \u001b[0;36mread_csv\u001b[1;34m(filepath_or_buffer, sep, delimiter, header, names, index_col, usecols, dtype, engine, converters, true_values, false_values, skipinitialspace, skiprows, skipfooter, nrows, na_values, keep_default_na, na_filter, verbose, skip_blank_lines, parse_dates, infer_datetime_format, keep_date_col, date_parser, date_format, dayfirst, cache_dates, iterator, chunksize, compression, thousands, decimal, lineterminator, quotechar, quoting, doublequote, escapechar, comment, encoding, encoding_errors, dialect, on_bad_lines, delim_whitespace, low_memory, memory_map, float_precision, storage_options, dtype_backend)\u001b[0m\n\u001b[0;32m    899\u001b[0m kwds_defaults \u001b[38;5;241m=\u001b[39m _refine_defaults_read(\n\u001b[0;32m    900\u001b[0m     dialect,\n\u001b[0;32m    901\u001b[0m     delimiter,\n\u001b[1;32m   (...)\u001b[0m\n\u001b[0;32m    908\u001b[0m     dtype_backend\u001b[38;5;241m=\u001b[39mdtype_backend,\n\u001b[0;32m    909\u001b[0m )\n\u001b[0;32m    910\u001b[0m kwds\u001b[38;5;241m.\u001b[39mupdate(kwds_defaults)\n\u001b[1;32m--> 912\u001b[0m \u001b[38;5;28;01mreturn\u001b[39;00m \u001b[43m_read\u001b[49m\u001b[43m(\u001b[49m\u001b[43mfilepath_or_buffer\u001b[49m\u001b[43m,\u001b[49m\u001b[43m \u001b[49m\u001b[43mkwds\u001b[49m\u001b[43m)\u001b[49m\n",
      "File \u001b[1;32m~\\AppData\\Local\\Programs\\Python\\Python39\\lib\\site-packages\\pandas\\io\\parsers\\readers.py:577\u001b[0m, in \u001b[0;36m_read\u001b[1;34m(filepath_or_buffer, kwds)\u001b[0m\n\u001b[0;32m    574\u001b[0m _validate_names(kwds\u001b[38;5;241m.\u001b[39mget(\u001b[38;5;124m\"\u001b[39m\u001b[38;5;124mnames\u001b[39m\u001b[38;5;124m\"\u001b[39m, \u001b[38;5;28;01mNone\u001b[39;00m))\n\u001b[0;32m    576\u001b[0m \u001b[38;5;66;03m# Create the parser.\u001b[39;00m\n\u001b[1;32m--> 577\u001b[0m parser \u001b[38;5;241m=\u001b[39m TextFileReader(filepath_or_buffer, \u001b[38;5;241m*\u001b[39m\u001b[38;5;241m*\u001b[39mkwds)\n\u001b[0;32m    579\u001b[0m \u001b[38;5;28;01mif\u001b[39;00m chunksize \u001b[38;5;129;01mor\u001b[39;00m iterator:\n\u001b[0;32m    580\u001b[0m     \u001b[38;5;28;01mreturn\u001b[39;00m parser\n",
      "File \u001b[1;32m~\\AppData\\Local\\Programs\\Python\\Python39\\lib\\site-packages\\pandas\\io\\parsers\\readers.py:1407\u001b[0m, in \u001b[0;36mTextFileReader.__init__\u001b[1;34m(self, f, engine, **kwds)\u001b[0m\n\u001b[0;32m   1404\u001b[0m     \u001b[38;5;28mself\u001b[39m\u001b[38;5;241m.\u001b[39moptions[\u001b[38;5;124m\"\u001b[39m\u001b[38;5;124mhas_index_names\u001b[39m\u001b[38;5;124m\"\u001b[39m] \u001b[38;5;241m=\u001b[39m kwds[\u001b[38;5;124m\"\u001b[39m\u001b[38;5;124mhas_index_names\u001b[39m\u001b[38;5;124m\"\u001b[39m]\n\u001b[0;32m   1406\u001b[0m \u001b[38;5;28mself\u001b[39m\u001b[38;5;241m.\u001b[39mhandles: IOHandles \u001b[38;5;241m|\u001b[39m \u001b[38;5;28;01mNone\u001b[39;00m \u001b[38;5;241m=\u001b[39m \u001b[38;5;28;01mNone\u001b[39;00m\n\u001b[1;32m-> 1407\u001b[0m \u001b[38;5;28mself\u001b[39m\u001b[38;5;241m.\u001b[39m_engine \u001b[38;5;241m=\u001b[39m \u001b[38;5;28;43mself\u001b[39;49m\u001b[38;5;241;43m.\u001b[39;49m\u001b[43m_make_engine\u001b[49m\u001b[43m(\u001b[49m\u001b[43mf\u001b[49m\u001b[43m,\u001b[49m\u001b[43m \u001b[49m\u001b[38;5;28;43mself\u001b[39;49m\u001b[38;5;241;43m.\u001b[39;49m\u001b[43mengine\u001b[49m\u001b[43m)\u001b[49m\n",
      "File \u001b[1;32m~\\AppData\\Local\\Programs\\Python\\Python39\\lib\\site-packages\\pandas\\io\\parsers\\readers.py:1661\u001b[0m, in \u001b[0;36mTextFileReader._make_engine\u001b[1;34m(self, f, engine)\u001b[0m\n\u001b[0;32m   1659\u001b[0m     \u001b[38;5;28;01mif\u001b[39;00m \u001b[38;5;124m\"\u001b[39m\u001b[38;5;124mb\u001b[39m\u001b[38;5;124m\"\u001b[39m \u001b[38;5;129;01mnot\u001b[39;00m \u001b[38;5;129;01min\u001b[39;00m mode:\n\u001b[0;32m   1660\u001b[0m         mode \u001b[38;5;241m+\u001b[39m\u001b[38;5;241m=\u001b[39m \u001b[38;5;124m\"\u001b[39m\u001b[38;5;124mb\u001b[39m\u001b[38;5;124m\"\u001b[39m\n\u001b[1;32m-> 1661\u001b[0m \u001b[38;5;28mself\u001b[39m\u001b[38;5;241m.\u001b[39mhandles \u001b[38;5;241m=\u001b[39m \u001b[43mget_handle\u001b[49m\u001b[43m(\u001b[49m\n\u001b[0;32m   1662\u001b[0m \u001b[43m    \u001b[49m\u001b[43mf\u001b[49m\u001b[43m,\u001b[49m\n\u001b[0;32m   1663\u001b[0m \u001b[43m    \u001b[49m\u001b[43mmode\u001b[49m\u001b[43m,\u001b[49m\n\u001b[0;32m   1664\u001b[0m \u001b[43m    \u001b[49m\u001b[43mencoding\u001b[49m\u001b[38;5;241;43m=\u001b[39;49m\u001b[38;5;28;43mself\u001b[39;49m\u001b[38;5;241;43m.\u001b[39;49m\u001b[43moptions\u001b[49m\u001b[38;5;241;43m.\u001b[39;49m\u001b[43mget\u001b[49m\u001b[43m(\u001b[49m\u001b[38;5;124;43m\"\u001b[39;49m\u001b[38;5;124;43mencoding\u001b[39;49m\u001b[38;5;124;43m\"\u001b[39;49m\u001b[43m,\u001b[49m\u001b[43m \u001b[49m\u001b[38;5;28;43;01mNone\u001b[39;49;00m\u001b[43m)\u001b[49m\u001b[43m,\u001b[49m\n\u001b[0;32m   1665\u001b[0m \u001b[43m    \u001b[49m\u001b[43mcompression\u001b[49m\u001b[38;5;241;43m=\u001b[39;49m\u001b[38;5;28;43mself\u001b[39;49m\u001b[38;5;241;43m.\u001b[39;49m\u001b[43moptions\u001b[49m\u001b[38;5;241;43m.\u001b[39;49m\u001b[43mget\u001b[49m\u001b[43m(\u001b[49m\u001b[38;5;124;43m\"\u001b[39;49m\u001b[38;5;124;43mcompression\u001b[39;49m\u001b[38;5;124;43m\"\u001b[39;49m\u001b[43m,\u001b[49m\u001b[43m \u001b[49m\u001b[38;5;28;43;01mNone\u001b[39;49;00m\u001b[43m)\u001b[49m\u001b[43m,\u001b[49m\n\u001b[0;32m   1666\u001b[0m \u001b[43m    \u001b[49m\u001b[43mmemory_map\u001b[49m\u001b[38;5;241;43m=\u001b[39;49m\u001b[38;5;28;43mself\u001b[39;49m\u001b[38;5;241;43m.\u001b[39;49m\u001b[43moptions\u001b[49m\u001b[38;5;241;43m.\u001b[39;49m\u001b[43mget\u001b[49m\u001b[43m(\u001b[49m\u001b[38;5;124;43m\"\u001b[39;49m\u001b[38;5;124;43mmemory_map\u001b[39;49m\u001b[38;5;124;43m\"\u001b[39;49m\u001b[43m,\u001b[49m\u001b[43m \u001b[49m\u001b[38;5;28;43;01mFalse\u001b[39;49;00m\u001b[43m)\u001b[49m\u001b[43m,\u001b[49m\n\u001b[0;32m   1667\u001b[0m \u001b[43m    \u001b[49m\u001b[43mis_text\u001b[49m\u001b[38;5;241;43m=\u001b[39;49m\u001b[43mis_text\u001b[49m\u001b[43m,\u001b[49m\n\u001b[0;32m   1668\u001b[0m \u001b[43m    \u001b[49m\u001b[43merrors\u001b[49m\u001b[38;5;241;43m=\u001b[39;49m\u001b[38;5;28;43mself\u001b[39;49m\u001b[38;5;241;43m.\u001b[39;49m\u001b[43moptions\u001b[49m\u001b[38;5;241;43m.\u001b[39;49m\u001b[43mget\u001b[49m\u001b[43m(\u001b[49m\u001b[38;5;124;43m\"\u001b[39;49m\u001b[38;5;124;43mencoding_errors\u001b[39;49m\u001b[38;5;124;43m\"\u001b[39;49m\u001b[43m,\u001b[49m\u001b[43m \u001b[49m\u001b[38;5;124;43m\"\u001b[39;49m\u001b[38;5;124;43mstrict\u001b[39;49m\u001b[38;5;124;43m\"\u001b[39;49m\u001b[43m)\u001b[49m\u001b[43m,\u001b[49m\n\u001b[0;32m   1669\u001b[0m \u001b[43m    \u001b[49m\u001b[43mstorage_options\u001b[49m\u001b[38;5;241;43m=\u001b[39;49m\u001b[38;5;28;43mself\u001b[39;49m\u001b[38;5;241;43m.\u001b[39;49m\u001b[43moptions\u001b[49m\u001b[38;5;241;43m.\u001b[39;49m\u001b[43mget\u001b[49m\u001b[43m(\u001b[49m\u001b[38;5;124;43m\"\u001b[39;49m\u001b[38;5;124;43mstorage_options\u001b[39;49m\u001b[38;5;124;43m\"\u001b[39;49m\u001b[43m,\u001b[49m\u001b[43m \u001b[49m\u001b[38;5;28;43;01mNone\u001b[39;49;00m\u001b[43m)\u001b[49m\u001b[43m,\u001b[49m\n\u001b[0;32m   1670\u001b[0m \u001b[43m\u001b[49m\u001b[43m)\u001b[49m\n\u001b[0;32m   1671\u001b[0m \u001b[38;5;28;01massert\u001b[39;00m \u001b[38;5;28mself\u001b[39m\u001b[38;5;241m.\u001b[39mhandles \u001b[38;5;129;01mis\u001b[39;00m \u001b[38;5;129;01mnot\u001b[39;00m \u001b[38;5;28;01mNone\u001b[39;00m\n\u001b[0;32m   1672\u001b[0m f \u001b[38;5;241m=\u001b[39m \u001b[38;5;28mself\u001b[39m\u001b[38;5;241m.\u001b[39mhandles\u001b[38;5;241m.\u001b[39mhandle\n",
      "File \u001b[1;32m~\\AppData\\Local\\Programs\\Python\\Python39\\lib\\site-packages\\pandas\\io\\common.py:859\u001b[0m, in \u001b[0;36mget_handle\u001b[1;34m(path_or_buf, mode, encoding, compression, memory_map, is_text, errors, storage_options)\u001b[0m\n\u001b[0;32m    854\u001b[0m \u001b[38;5;28;01melif\u001b[39;00m \u001b[38;5;28misinstance\u001b[39m(handle, \u001b[38;5;28mstr\u001b[39m):\n\u001b[0;32m    855\u001b[0m     \u001b[38;5;66;03m# Check whether the filename is to be opened in binary mode.\u001b[39;00m\n\u001b[0;32m    856\u001b[0m     \u001b[38;5;66;03m# Binary mode does not support 'encoding' and 'newline'.\u001b[39;00m\n\u001b[0;32m    857\u001b[0m     \u001b[38;5;28;01mif\u001b[39;00m ioargs\u001b[38;5;241m.\u001b[39mencoding \u001b[38;5;129;01mand\u001b[39;00m \u001b[38;5;124m\"\u001b[39m\u001b[38;5;124mb\u001b[39m\u001b[38;5;124m\"\u001b[39m \u001b[38;5;129;01mnot\u001b[39;00m \u001b[38;5;129;01min\u001b[39;00m ioargs\u001b[38;5;241m.\u001b[39mmode:\n\u001b[0;32m    858\u001b[0m         \u001b[38;5;66;03m# Encoding\u001b[39;00m\n\u001b[1;32m--> 859\u001b[0m         handle \u001b[38;5;241m=\u001b[39m \u001b[38;5;28;43mopen\u001b[39;49m\u001b[43m(\u001b[49m\n\u001b[0;32m    860\u001b[0m \u001b[43m            \u001b[49m\u001b[43mhandle\u001b[49m\u001b[43m,\u001b[49m\n\u001b[0;32m    861\u001b[0m \u001b[43m            \u001b[49m\u001b[43mioargs\u001b[49m\u001b[38;5;241;43m.\u001b[39;49m\u001b[43mmode\u001b[49m\u001b[43m,\u001b[49m\n\u001b[0;32m    862\u001b[0m \u001b[43m            \u001b[49m\u001b[43mencoding\u001b[49m\u001b[38;5;241;43m=\u001b[39;49m\u001b[43mioargs\u001b[49m\u001b[38;5;241;43m.\u001b[39;49m\u001b[43mencoding\u001b[49m\u001b[43m,\u001b[49m\n\u001b[0;32m    863\u001b[0m \u001b[43m            \u001b[49m\u001b[43merrors\u001b[49m\u001b[38;5;241;43m=\u001b[39;49m\u001b[43merrors\u001b[49m\u001b[43m,\u001b[49m\n\u001b[0;32m    864\u001b[0m \u001b[43m            \u001b[49m\u001b[43mnewline\u001b[49m\u001b[38;5;241;43m=\u001b[39;49m\u001b[38;5;124;43m\"\u001b[39;49m\u001b[38;5;124;43m\"\u001b[39;49m\u001b[43m,\u001b[49m\n\u001b[0;32m    865\u001b[0m \u001b[43m        \u001b[49m\u001b[43m)\u001b[49m\n\u001b[0;32m    866\u001b[0m     \u001b[38;5;28;01melse\u001b[39;00m:\n\u001b[0;32m    867\u001b[0m         \u001b[38;5;66;03m# Binary mode\u001b[39;00m\n\u001b[0;32m    868\u001b[0m         handle \u001b[38;5;241m=\u001b[39m \u001b[38;5;28mopen\u001b[39m(handle, ioargs\u001b[38;5;241m.\u001b[39mmode)\n",
      "\u001b[1;31mFileNotFoundError\u001b[0m: [Errno 2] No such file or directory: 'Data/Students_info_0.csv'"
     ]
    }
   ],
   "source": [
    "df = pd.DataFrame()\n",
    "# Вообще могу предложить два способа: складывать с помощью функции concat данные из файлов marks и info с параметром axis=1\n",
    "# и потом сложить уже полученные таблицы опять же с помощью concat. Это работает, но будет два столбика index + если \n",
    "# индексы будут идти не по порядку в двух файликах, то ничего не будет работать. Поэтому лучше использовать merge (предварительно\n",
    "# сложив concat'ом все info и marks\n",
    "df_info = pd.concat([pd.read_csv(\"Data/Students_info_\" + str(i) + \".csv\", sep=\",\") for i in range(10)])\n",
    "df_marks = pd.concat([pd.read_csv(\"Data/Students_marks_\" + str(i) + \".csv\", sep=\",\") for i in range(10)])\n",
    "df = pd.merge(df_info, df_marks, on=\"index\")\n",
    "df.sample(6)"
   ]
  },
  {
   "cell_type": "markdown",
   "id": "dece1ab2-bdc6-46a2-b578-212aa1341fd5",
   "metadata": {},
   "source": [
    "### Ex. 2"
   ]
  },
  {
   "cell_type": "code",
   "execution_count": null,
   "id": "9aa0509a-ca5e-4c4d-beab-e7ae08d74d18",
   "metadata": {},
   "outputs": [],
   "source": [
    "# используя функцию drop удаляем столбик index. Выводим первые 10 строк\n",
    "df.drop('index', axis=1, inplace=True)\n",
    "df.head(10)"
   ]
  },
  {
   "cell_type": "markdown",
   "id": "ade5169d-4251-4365-bc18-6ba30d0f2426",
   "metadata": {},
   "source": [
    "### Ex. 3"
   ]
  },
  {
   "cell_type": "code",
   "execution_count": null,
   "id": "7ab51e3e-7da1-483e-b736-b19c90667108",
   "metadata": {},
   "outputs": [],
   "source": [
    "## без комментариев\n",
    "df.shape"
   ]
  },
  {
   "cell_type": "markdown",
   "id": "bd79eedf-41ea-4226-985f-4bb2662163e7",
   "metadata": {},
   "source": [
    "### Ex. 4"
   ]
  },
  {
   "cell_type": "code",
   "execution_count": null,
   "id": "5d996cb0-304c-43ea-81d0-c56d45d2be83",
   "metadata": {},
   "outputs": [],
   "source": [
    "## Создаем словарь, где ключами будут предметы, а значениеями - массивы, состоящие из целевых значений. Высчитываем\n",
    "## их выбирая из таблицы соответсвующие столбцы и с помощью функций min(), max(), mean(), std()\n",
    "data = {'Math' : [df['math score'].min(), df['math score'].max(), df['math score'].mean(), pd.Series.std(df['math score'])],\n",
    "        'Reading' : [df['reading score'].min(), df['reading score'].max(), df['reading score'].mean(), pd.Series.std(df['reading score'])],\n",
    "        'Writing' : [df['writing score'].min(), df['writing score'].max(), df['writing score'].mean(), pd.Series.std(df['writing score'])]\n",
    "}\n",
    "## Создаем удобную табличку со столбцами словаря и нужным индексом\n",
    "df_info = pd.DataFrame(data, index=['Min', 'Max', 'Mean', 'Std'])\n",
    "df_info"
   ]
  },
  {
   "cell_type": "code",
   "execution_count": null,
   "id": "36ba2662-a351-491b-b155-99b90830790b",
   "metadata": {},
   "outputs": [],
   "source": [
    "# можно и так\n",
    "df.describe().iloc[[1, 2, 3, 7]]"
   ]
  },
  {
   "cell_type": "markdown",
   "id": "9aed32e7-9959-4f41-b756-baa922bdbf63",
   "metadata": {},
   "source": [
    "### Ex. 5"
   ]
  },
  {
   "cell_type": "code",
   "execution_count": null,
   "id": "6684415d-03b7-4f23-abdb-a8d7c2ad733f",
   "metadata": {},
   "outputs": [],
   "source": [
    "## Считаем количество Nan значений во всех столбцах. Как видим их 0\n",
    "df.isnull().sum()"
   ]
  },
  {
   "cell_type": "markdown",
   "id": "738867e2-38c1-4ea6-b417-3a96ec9ef218",
   "metadata": {},
   "source": [
    "### Ex. 6"
   ]
  },
  {
   "cell_type": "code",
   "execution_count": null,
   "id": "5f779286-7eb8-46ec-8946-bd22d3bc0f43",
   "metadata": {},
   "outputs": [],
   "source": [
    "## Задание анаолгичное 4, поэтому комментариев никаких\n",
    "data = {'Math' : [df['math score'].mean()],\n",
    "        'Reading' : [df['reading score'].mean()],\n",
    "        'Writing' : [df['writing score'].mean()]\n",
    "}\n",
    "df_mean = pd.DataFrame(data, index=['Mean'])\n",
    "df_mean"
   ]
  },
  {
   "cell_type": "markdown",
   "id": "a4bfb7b7-ba6c-4de8-a83f-8d5e6b0c0cf9",
   "metadata": {},
   "source": [
    "### Ex. 7"
   ]
  },
  {
   "cell_type": "code",
   "execution_count": null,
   "id": "a58970c6-b5fc-43c5-8949-4bf44ef121d1",
   "metadata": {},
   "outputs": [],
   "source": [
    "## Задание аналогичное предыдущему, единтсвенное отличие - отбор по строке test preparation course\n",
    "data = {'Math' : [df[df['test preparation course'] == 'completed']['math score'].mean(), \n",
    "                  df[df['test preparation course'] == 'none']['math score'].mean()],\n",
    "        'Reading' : [df[df['test preparation course'] == 'completed']['reading score'].mean(), \n",
    "                     df[df['test preparation course'] == 'none']['reading score'].mean()],\n",
    "        'Writing' : [df[df['test preparation course'] == 'completed']['writing score'].mean(), \n",
    "                     df[df['test preparation course'] == 'none']['writing score'].mean()]\n",
    "}\n",
    "df_mean_ex_course = pd.DataFrame(data, index=['With Prep', 'Without Prep'])\n",
    "df_mean_ex_course"
   ]
  },
  {
   "cell_type": "markdown",
   "id": "bc03b918-503d-40de-9e42-74f44fa82455",
   "metadata": {},
   "source": [
    "### Ex. 8"
   ]
  },
  {
   "cell_type": "code",
   "execution_count": null,
   "id": "acdca9fd-974f-401e-a86d-ba387a0025bc",
   "metadata": {},
   "outputs": [],
   "source": [
    "## испольуем функцию unique на столбцу lunch. Имеет всего два уникальных значений\n",
    "df['lunch'].unique()"
   ]
  },
  {
   "cell_type": "markdown",
   "id": "1454e4f3-155f-4638-ba99-2c3cf1dedd2e",
   "metadata": {},
   "source": [
    "### Ex. 9"
   ]
  },
  {
   "cell_type": "code",
   "execution_count": null,
   "id": "f6de71ba-d7a2-4081-9cc1-2ea45eedef1f",
   "metadata": {},
   "outputs": [],
   "source": [
    "## используем функцию указанную в задании\n",
    "df.rename(columns={\"parental level of education\" : \"education\", 'test preparation course' : 'test preparation'}, inplace=True)\n",
    "df"
   ]
  },
  {
   "cell_type": "code",
   "execution_count": null,
   "id": "3b2d11d6-9716-48f9-8478-43bd8ea693b3",
   "metadata": {},
   "outputs": [],
   "source": [
    "passmark = 50"
   ]
  },
  {
   "cell_type": "markdown",
   "id": "a9b0c1ac-d23f-4b40-a8e7-6a798c5f8455",
   "metadata": {},
   "source": [
    "### Ex. 10"
   ]
  },
  {
   "cell_type": "code",
   "execution_count": null,
   "id": "44baed59-0925-43ec-a6f1-5bf4e1bb6ec1",
   "metadata": {},
   "outputs": [],
   "source": [
    "## Значение a - это количество выбранных строк, где math score > passmark (берем от резульата count нулевой элемент\n",
    "## т к count нам возвращает список, где для кажой колонки посчитано количество элементов (которое очевидно одинаковоу)\n",
    "## деленное на общее количество элементов таблицы\n",
    "a = df[df['math score'] >= passmark].count()[0] / df.count()[0]\n",
    "## Аналогично, но добавляем дополнительное условие на окончание подготовительного курса\n",
    "b = df.loc[(df['math score'] >= passmark) & (df['test preparation'] == 'completed')].count()[0] / (\n",
    "        df[df['test preparation'] == 'completed'].count()[0])\n",
    "## Аналогично, но появляется новое условие\n",
    "c = df.loc[(df['math score'] < passmark) & (df['test preparation'] == 'none') & (df['gender'] == 'female')].count()[0] / (\n",
    "        df.loc[(df['test preparation'] == 'none') & (df['gender'] == 'female')].count()[0])\n",
    "## выводим полученные данные в удобочитаемой таблице\n",
    "data = {'Percatage' : [a, b, c]}\n",
    "df_perc = pd.DataFrame(data, index=['Passed the math', 'Passed the math with prep', 'Women failed the math without prep'])\n",
    "df_perc"
   ]
  },
  {
   "cell_type": "markdown",
   "id": "df1337c2-50c6-4c01-8856-ce6ebfa15fae",
   "metadata": {},
   "source": [
    "### Ex. 11"
   ]
  },
  {
   "cell_type": "code",
   "execution_count": null,
   "id": "6bcb1c66-81f9-4ae7-afd7-f57272b729a4",
   "metadata": {},
   "outputs": [],
   "source": [
    "import time\n",
    "s = time.time()\n",
    "## группируем по принадлежности к национальности или расе, выбираем столбик с оценками за чтение и считаем средний результат\n",
    "## для удобочитаемости обновляем индексы\n",
    "df_races_read = df.groupby(by='race/ethnicity')['reading score'].mean().reset_index()\n",
    "e = time.time()\n",
    "print((e - s) * 10**3, \"ms\")\n",
    "df_races_read"
   ]
  },
  {
   "cell_type": "code",
   "execution_count": null,
   "id": "f645b56a-ab3e-41e5-9477-ec0c352f127d",
   "metadata": {},
   "outputs": [],
   "source": [
    "s = time.time()\n",
    "## полностью аналогично прошлому заданию\n",
    "df_edu_write = df.groupby(by='education')['writing score'].min().reset_index()\n",
    "e = time.time()\n",
    "print((e - s) * 10**3, \"ms\")\n",
    "df_edu_write"
   ]
  },
  {
   "cell_type": "markdown",
   "id": "876544e8-7f66-4ea5-9f9f-cd5542b5c68b",
   "metadata": {},
   "source": [
    "### Ex. 12"
   ]
  },
  {
   "cell_type": "code",
   "execution_count": null,
   "id": "caa0c779-ceb6-49b0-b436-b6315750500d",
   "metadata": {},
   "outputs": [],
   "source": [
    "s = time.time()\n",
    "df_races_read_c = dict()\n",
    "df_races_read_k = dict()\n",
    "# с помощью словаря подсчитываем количество людей каждой национальности и сумму их баллов за чтение\n",
    "for i in range(df.shape[0]):\n",
    "    if df.loc[i, 'race/ethnicity'] in df_races_read_c:\n",
    "        df_races_read_c[df.loc[i, 'race/ethnicity']] += df.loc[i, 'reading score']\n",
    "        df_races_read_k[df.loc[i, 'race/ethnicity']] += 1\n",
    "    else:\n",
    "        df_races_read_c[df.loc[i, 'race/ethnicity']] = df.loc[i, 'reading score']\n",
    "        df_races_read_k[df.loc[i, 'race/ethnicity']] = 1\n",
    "# считаем среднее значение\n",
    "for i in df_races_read_c.keys():\n",
    "    df_races_read_c[i] /= df_races_read_k[i]\n",
    "# реиндексируем для красоты\n",
    "df_races_read_c = pd.DataFrame(df_races_read_c, index=['reading score'])\n",
    "df_races_read_c = df_races_read_c.reindex(sorted(df_races_read_c.columns), axis=1)\n",
    "df_races_read_c = df_races_read_c.transpose().reset_index()\n",
    "e = time.time()\n",
    "print((e - s) * 10**3, \"ms\")\n",
    "df_races_read_c"
   ]
  },
  {
   "cell_type": "code",
   "execution_count": null,
   "id": "50dd306e-a6de-47ce-a374-636ba9ff09cb",
   "metadata": {},
   "outputs": [],
   "source": [
    "s = time.time()\n",
    "df_edu_write_c = dict()\n",
    "# с помощью словаря находим минимальный балл для каждого образования\n",
    "for i in range(df.shape[0]):\n",
    "    if df.loc[i, 'education'] in df_edu_write_c:\n",
    "        df_edu_write_c[df.loc[i, 'education']] = min(df.loc[i, 'writing score'], df_edu_write_c[df.loc[i, 'education']])\n",
    "    else:\n",
    "        df_edu_write_c[df.loc[i, 'education']] = df.loc[i, 'writing score']\n",
    "df_edu_write_c = pd.DataFrame(df_edu_write_c, index=['writing score'])\n",
    "# реиндексируем для красоты\n",
    "df_edu_write_c = df_edu_write_c.reindex(sorted(df_edu_write_c.columns), axis=1)\n",
    "df_edu_write_c = df_edu_write_c.transpose()\n",
    "e = time.time()\n",
    "print((e - s) * 10**3, \"ms\")\n",
    "df_edu_write_c"
   ]
  },
  {
   "cell_type": "markdown",
   "id": "744d0124-e161-4d9f-873e-85f824af4c92",
   "metadata": {},
   "source": [
    "### Ex. 13"
   ]
  },
  {
   "cell_type": "code",
   "execution_count": null,
   "id": "b45d945c-90af-4209-afe1-d9199e9756bb",
   "metadata": {},
   "outputs": [],
   "source": [
    "# собираем сводную таблицу с помощью pivot_table на основе таблицы df с удаленными нечисловыми столбцами (помимо\n",
    "# целевых). Так как нас интересует среднее значение, а pivot_table по умолчанию использует mean, то ничего больше не\n",
    "# не добавляем\n",
    "grouped = pd.pivot_table(df.drop(['race/ethnicity', 'lunch', 'test preparation', 'group'], axis=1), \n",
    "                         index=['gender', 'education'])\n",
    "grouped"
   ]
  },
  {
   "cell_type": "markdown",
   "id": "6b580b88-7990-4490-bdd0-a5865bede75b",
   "metadata": {},
   "source": [
    "### Ex.14"
   ]
  },
  {
   "cell_type": "code",
   "execution_count": null,
   "id": "a6c6cc50-04de-4a11-b8d4-09fd1750f170",
   "metadata": {},
   "outputs": [],
   "source": [
    "# Используя appply и лямбда-функцию создаем новые столбцы и подсчитываем количество сдавших\n",
    "df['Math_PassStatus'] = df['math score'].apply(lambda x: 'P' * (x >= passmark) + 'F' * (x < passmark))\n",
    "df['Reading_PassStatus'] = df['reading score'].apply(lambda x: 'P' * (x >= passmark) + 'F' * (x < passmark))\n",
    "df['Writing_PassStatus'] = df['writing score'].apply(lambda x: 'P' * (x >= passmark) + 'F' * (x < passmark))\n",
    "print('Math passed', df[df['Math_PassStatus'] == 'P'].count()[0])\n",
    "print('Math failed', df[df['Math_PassStatus'] == 'F'].count()[0])\n",
    "print('Reading passed', df[df['Reading_PassStatus'] == 'P'].count()[0])\n",
    "print('Reading failed', df[df['Reading_PassStatus'] == 'F'].count()[0])\n",
    "print('Writing passed', df[df['Writing_PassStatus'] == 'P'].count()[0])\n",
    "print('Writing failed', df[df['Writing_PassStatus'] == 'F'].count()[0])\n",
    "df"
   ]
  },
  {
   "cell_type": "markdown",
   "id": "db13a935-540b-4508-86f2-18db3ea128cb",
   "metadata": {},
   "source": [
    "### Ex. 15"
   ]
  },
  {
   "cell_type": "code",
   "execution_count": null,
   "id": "af89877a-edfc-47b9-a751-f48448357e8d",
   "metadata": {},
   "outputs": [],
   "source": [
    "# аналогично предыдущему\n",
    "df['OverAll_PassStatus'] = (df['Math_PassStatus'] + df['Reading_PassStatus'] + df['Writing_PassStatus']).apply(\n",
    "    lambda x: 'P' * (x == 'PPP') + 'F' * (x != 'PPP')\n",
    ")\n",
    "print('Exam passed', df[df['OverAll_PassStatus'] == 'P'].count()[0])\n",
    "print('Exam failed', df[df['OverAll_PassStatus'] == 'F'].count()[0])\n",
    "df"
   ]
  },
  {
   "cell_type": "markdown",
   "id": "2a951876-1d49-4c50-889f-77bca546b217",
   "metadata": {},
   "source": [
    "### Ex. 16"
   ]
  },
  {
   "cell_type": "code",
   "execution_count": null,
   "id": "6ba25533-f80d-470c-91fe-ee89f262727b",
   "metadata": {},
   "outputs": [],
   "source": [
    "# аналогично предыдущему\n",
    "df['Grade'] = ((df['math score'] + df['reading score'] + df['writing score']) / 3).apply(\n",
    "    lambda x: (x < 50) * 'F' + (50 <= x < 60) * 'E' + (60 <= x < 70) * 'D' + \n",
    "              (70 <= x < 80) * 'C' + (80 <= x < 90) * 'B' + (x >= 90) * 'A'\n",
    ")\n",
    "print('F', df[df['Grade'] == 'F'].count()[0])\n",
    "print('E', df[df['Grade'] == 'E'].count()[0])\n",
    "print('D', df[df['Grade'] == 'D'].count()[0])\n",
    "print('C', df[df['Grade'] == 'C'].count()[0])\n",
    "print('B', df[df['Grade'] == 'B'].count()[0])\n",
    "print('A', df[df['Grade'] == 'A'].count()[0])\n",
    "df"
   ]
  }
 ],
 "metadata": {
  "kernelspec": {
   "display_name": "Python 3 (ipykernel)",
   "language": "python",
   "name": "python3"
  },
  "language_info": {
   "codemirror_mode": {
    "name": "ipython",
    "version": 3
   },
   "file_extension": ".py",
   "mimetype": "text/x-python",
   "name": "python",
   "nbconvert_exporter": "python",
   "pygments_lexer": "ipython3",
   "version": "3.9.13"
  }
 },
 "nbformat": 4,
 "nbformat_minor": 5
}
