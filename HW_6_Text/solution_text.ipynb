{
  "cells": [
    {
      "cell_type": "markdown",
      "metadata": {
        "id": "C4YNXPRXN8qv"
      },
      "source": [
        "##Preparation for HW"
      ]
    },
    {
      "cell_type": "code",
      "execution_count": 1,
      "metadata": {
        "id": "Mc_4S4XFNxqG"
      },
      "outputs": [],
      "source": [
        "import numpy as np\n",
        "import pandas as pd\n",
        "from typing import  List\n",
        "import matplotlib.pyplot as plt\n",
        "import seaborn as sns\n",
        "from string import punctuation\n",
        "from sklearn.model_selection import train_test_split\n",
        "from collections import Counter\n",
        "\n",
        "import nltk\n",
        "from nltk.corpus import stopwords\n",
        "\n",
        "from nltk.tokenize import TweetTokenizer\n",
        "from string import punctuation\n",
        "from sklearn.feature_extraction.text import CountVectorizer\n",
        "from sklearn.feature_extraction.text import TfidfVectorizer\n",
        "from sklearn.linear_model import LogisticRegression\n",
        "from sklearn.metrics import accuracy_score\n",
        "from nltk.stem import SnowballStemmer\n",
        "from sklearn.preprocessing import StandardScaler\n",
        "from datetime import datetime\n",
        "from sklearn. preprocessing import OneHotEncoder\n",
        "from scipy.sparse import hstack"
      ]
    },
    {
      "cell_type": "code",
      "execution_count": 2,
      "metadata": {
        "colab": {
          "base_uri": "https://localhost:8080/"
        },
        "id": "arsgE4jVQ6aG",
        "outputId": "d73bfca0-ac14-433f-8050-36c9b5e1ecba"
      },
      "outputs": [
        {
          "output_type": "stream",
          "name": "stdout",
          "text": [
            "--2024-05-13 18:26:27--  https://raw.githubusercontent.com/hse-ds/iad-intro-ds/master/2024/homeworks/hw06_texts/tweets_coronavirus.csv\n",
            "Resolving raw.githubusercontent.com (raw.githubusercontent.com)... 185.199.108.133, 185.199.109.133, 185.199.110.133, ...\n",
            "Connecting to raw.githubusercontent.com (raw.githubusercontent.com)|185.199.108.133|:443... connected.\n",
            "HTTP request sent, awaiting response... 200 OK\n",
            "Length: 8829280 (8.4M) [text/plain]\n",
            "Saving to: ‘tweets_coronavirus.csv.4’\n",
            "\n",
            "\rtweets_coronavirus.   0%[                    ]       0  --.-KB/s               \rtweets_coronavirus. 100%[===================>]   8.42M  --.-KB/s    in 0.09s   \n",
            "\n",
            "2024-05-13 18:26:27 (96.0 MB/s) - ‘tweets_coronavirus.csv.4’ saved [8829280/8829280]\n",
            "\n"
          ]
        }
      ],
      "source": [
        "!wget https://raw.githubusercontent.com/hse-ds/iad-intro-ds/master/2024/homeworks/hw06_texts/tweets_coronavirus.csv"
      ]
    },
    {
      "cell_type": "code",
      "execution_count": 3,
      "metadata": {
        "colab": {
          "base_uri": "https://localhost:8080/",
          "height": 174
        },
        "id": "hqeUH0rbODUU",
        "outputId": "4ff2c807-664d-4d37-fc7d-888e616e4d9b"
      },
      "outputs": [
        {
          "output_type": "execute_result",
          "data": {
            "text/plain": [
              "       UserName  ScreenName     Location     TweetAt  \\\n",
              "18043     25755       70707  Houston, TX  25-03-2020   \n",
              "4989       9863       54815      kolkata  19-03-2020   \n",
              "19934     28100       73052        India  26-03-2020   \n",
              "27239     37213       82165    the place  08-04-2020   \n",
              "\n",
              "                                           OriginalTweet           Sentiment  \n",
              "18043  I used to hide my electronics or other valuabl...            Positive  \n",
              "4989   Panic buying is putting additional pressure on...  Extremely Negative  \n",
              "19934  Next 21 days are crucial to you, me &amp; our ...  Extremely Negative  \n",
              "27239  This adjustment to Canada summer jobs is usele...            Negative  "
            ],
            "text/html": [
              "\n",
              "  <div id=\"df-5422a080-d4e3-4bea-a9cd-1d3e098a87e7\" class=\"colab-df-container\">\n",
              "    <div>\n",
              "<style scoped>\n",
              "    .dataframe tbody tr th:only-of-type {\n",
              "        vertical-align: middle;\n",
              "    }\n",
              "\n",
              "    .dataframe tbody tr th {\n",
              "        vertical-align: top;\n",
              "    }\n",
              "\n",
              "    .dataframe thead th {\n",
              "        text-align: right;\n",
              "    }\n",
              "</style>\n",
              "<table border=\"1\" class=\"dataframe\">\n",
              "  <thead>\n",
              "    <tr style=\"text-align: right;\">\n",
              "      <th></th>\n",
              "      <th>UserName</th>\n",
              "      <th>ScreenName</th>\n",
              "      <th>Location</th>\n",
              "      <th>TweetAt</th>\n",
              "      <th>OriginalTweet</th>\n",
              "      <th>Sentiment</th>\n",
              "    </tr>\n",
              "  </thead>\n",
              "  <tbody>\n",
              "    <tr>\n",
              "      <th>18043</th>\n",
              "      <td>25755</td>\n",
              "      <td>70707</td>\n",
              "      <td>Houston, TX</td>\n",
              "      <td>25-03-2020</td>\n",
              "      <td>I used to hide my electronics or other valuabl...</td>\n",
              "      <td>Positive</td>\n",
              "    </tr>\n",
              "    <tr>\n",
              "      <th>4989</th>\n",
              "      <td>9863</td>\n",
              "      <td>54815</td>\n",
              "      <td>kolkata</td>\n",
              "      <td>19-03-2020</td>\n",
              "      <td>Panic buying is putting additional pressure on...</td>\n",
              "      <td>Extremely Negative</td>\n",
              "    </tr>\n",
              "    <tr>\n",
              "      <th>19934</th>\n",
              "      <td>28100</td>\n",
              "      <td>73052</td>\n",
              "      <td>India</td>\n",
              "      <td>26-03-2020</td>\n",
              "      <td>Next 21 days are crucial to you, me &amp;amp; our ...</td>\n",
              "      <td>Extremely Negative</td>\n",
              "    </tr>\n",
              "    <tr>\n",
              "      <th>27239</th>\n",
              "      <td>37213</td>\n",
              "      <td>82165</td>\n",
              "      <td>the place</td>\n",
              "      <td>08-04-2020</td>\n",
              "      <td>This adjustment to Canada summer jobs is usele...</td>\n",
              "      <td>Negative</td>\n",
              "    </tr>\n",
              "  </tbody>\n",
              "</table>\n",
              "</div>\n",
              "    <div class=\"colab-df-buttons\">\n",
              "\n",
              "  <div class=\"colab-df-container\">\n",
              "    <button class=\"colab-df-convert\" onclick=\"convertToInteractive('df-5422a080-d4e3-4bea-a9cd-1d3e098a87e7')\"\n",
              "            title=\"Convert this dataframe to an interactive table.\"\n",
              "            style=\"display:none;\">\n",
              "\n",
              "  <svg xmlns=\"http://www.w3.org/2000/svg\" height=\"24px\" viewBox=\"0 -960 960 960\">\n",
              "    <path d=\"M120-120v-720h720v720H120Zm60-500h600v-160H180v160Zm220 220h160v-160H400v160Zm0 220h160v-160H400v160ZM180-400h160v-160H180v160Zm440 0h160v-160H620v160ZM180-180h160v-160H180v160Zm440 0h160v-160H620v160Z\"/>\n",
              "  </svg>\n",
              "    </button>\n",
              "\n",
              "  <style>\n",
              "    .colab-df-container {\n",
              "      display:flex;\n",
              "      gap: 12px;\n",
              "    }\n",
              "\n",
              "    .colab-df-convert {\n",
              "      background-color: #E8F0FE;\n",
              "      border: none;\n",
              "      border-radius: 50%;\n",
              "      cursor: pointer;\n",
              "      display: none;\n",
              "      fill: #1967D2;\n",
              "      height: 32px;\n",
              "      padding: 0 0 0 0;\n",
              "      width: 32px;\n",
              "    }\n",
              "\n",
              "    .colab-df-convert:hover {\n",
              "      background-color: #E2EBFA;\n",
              "      box-shadow: 0px 1px 2px rgba(60, 64, 67, 0.3), 0px 1px 3px 1px rgba(60, 64, 67, 0.15);\n",
              "      fill: #174EA6;\n",
              "    }\n",
              "\n",
              "    .colab-df-buttons div {\n",
              "      margin-bottom: 4px;\n",
              "    }\n",
              "\n",
              "    [theme=dark] .colab-df-convert {\n",
              "      background-color: #3B4455;\n",
              "      fill: #D2E3FC;\n",
              "    }\n",
              "\n",
              "    [theme=dark] .colab-df-convert:hover {\n",
              "      background-color: #434B5C;\n",
              "      box-shadow: 0px 1px 3px 1px rgba(0, 0, 0, 0.15);\n",
              "      filter: drop-shadow(0px 1px 2px rgba(0, 0, 0, 0.3));\n",
              "      fill: #FFFFFF;\n",
              "    }\n",
              "  </style>\n",
              "\n",
              "    <script>\n",
              "      const buttonEl =\n",
              "        document.querySelector('#df-5422a080-d4e3-4bea-a9cd-1d3e098a87e7 button.colab-df-convert');\n",
              "      buttonEl.style.display =\n",
              "        google.colab.kernel.accessAllowed ? 'block' : 'none';\n",
              "\n",
              "      async function convertToInteractive(key) {\n",
              "        const element = document.querySelector('#df-5422a080-d4e3-4bea-a9cd-1d3e098a87e7');\n",
              "        const dataTable =\n",
              "          await google.colab.kernel.invokeFunction('convertToInteractive',\n",
              "                                                    [key], {});\n",
              "        if (!dataTable) return;\n",
              "\n",
              "        const docLinkHtml = 'Like what you see? Visit the ' +\n",
              "          '<a target=\"_blank\" href=https://colab.research.google.com/notebooks/data_table.ipynb>data table notebook</a>'\n",
              "          + ' to learn more about interactive tables.';\n",
              "        element.innerHTML = '';\n",
              "        dataTable['output_type'] = 'display_data';\n",
              "        await google.colab.output.renderOutput(dataTable, element);\n",
              "        const docLink = document.createElement('div');\n",
              "        docLink.innerHTML = docLinkHtml;\n",
              "        element.appendChild(docLink);\n",
              "      }\n",
              "    </script>\n",
              "  </div>\n",
              "\n",
              "\n",
              "<div id=\"df-b7978744-e4a4-4c86-bb9c-7007ecf36421\">\n",
              "  <button class=\"colab-df-quickchart\" onclick=\"quickchart('df-b7978744-e4a4-4c86-bb9c-7007ecf36421')\"\n",
              "            title=\"Suggest charts\"\n",
              "            style=\"display:none;\">\n",
              "\n",
              "<svg xmlns=\"http://www.w3.org/2000/svg\" height=\"24px\"viewBox=\"0 0 24 24\"\n",
              "     width=\"24px\">\n",
              "    <g>\n",
              "        <path d=\"M19 3H5c-1.1 0-2 .9-2 2v14c0 1.1.9 2 2 2h14c1.1 0 2-.9 2-2V5c0-1.1-.9-2-2-2zM9 17H7v-7h2v7zm4 0h-2V7h2v10zm4 0h-2v-4h2v4z\"/>\n",
              "    </g>\n",
              "</svg>\n",
              "  </button>\n",
              "\n",
              "<style>\n",
              "  .colab-df-quickchart {\n",
              "      --bg-color: #E8F0FE;\n",
              "      --fill-color: #1967D2;\n",
              "      --hover-bg-color: #E2EBFA;\n",
              "      --hover-fill-color: #174EA6;\n",
              "      --disabled-fill-color: #AAA;\n",
              "      --disabled-bg-color: #DDD;\n",
              "  }\n",
              "\n",
              "  [theme=dark] .colab-df-quickchart {\n",
              "      --bg-color: #3B4455;\n",
              "      --fill-color: #D2E3FC;\n",
              "      --hover-bg-color: #434B5C;\n",
              "      --hover-fill-color: #FFFFFF;\n",
              "      --disabled-bg-color: #3B4455;\n",
              "      --disabled-fill-color: #666;\n",
              "  }\n",
              "\n",
              "  .colab-df-quickchart {\n",
              "    background-color: var(--bg-color);\n",
              "    border: none;\n",
              "    border-radius: 50%;\n",
              "    cursor: pointer;\n",
              "    display: none;\n",
              "    fill: var(--fill-color);\n",
              "    height: 32px;\n",
              "    padding: 0;\n",
              "    width: 32px;\n",
              "  }\n",
              "\n",
              "  .colab-df-quickchart:hover {\n",
              "    background-color: var(--hover-bg-color);\n",
              "    box-shadow: 0 1px 2px rgba(60, 64, 67, 0.3), 0 1px 3px 1px rgba(60, 64, 67, 0.15);\n",
              "    fill: var(--button-hover-fill-color);\n",
              "  }\n",
              "\n",
              "  .colab-df-quickchart-complete:disabled,\n",
              "  .colab-df-quickchart-complete:disabled:hover {\n",
              "    background-color: var(--disabled-bg-color);\n",
              "    fill: var(--disabled-fill-color);\n",
              "    box-shadow: none;\n",
              "  }\n",
              "\n",
              "  .colab-df-spinner {\n",
              "    border: 2px solid var(--fill-color);\n",
              "    border-color: transparent;\n",
              "    border-bottom-color: var(--fill-color);\n",
              "    animation:\n",
              "      spin 1s steps(1) infinite;\n",
              "  }\n",
              "\n",
              "  @keyframes spin {\n",
              "    0% {\n",
              "      border-color: transparent;\n",
              "      border-bottom-color: var(--fill-color);\n",
              "      border-left-color: var(--fill-color);\n",
              "    }\n",
              "    20% {\n",
              "      border-color: transparent;\n",
              "      border-left-color: var(--fill-color);\n",
              "      border-top-color: var(--fill-color);\n",
              "    }\n",
              "    30% {\n",
              "      border-color: transparent;\n",
              "      border-left-color: var(--fill-color);\n",
              "      border-top-color: var(--fill-color);\n",
              "      border-right-color: var(--fill-color);\n",
              "    }\n",
              "    40% {\n",
              "      border-color: transparent;\n",
              "      border-right-color: var(--fill-color);\n",
              "      border-top-color: var(--fill-color);\n",
              "    }\n",
              "    60% {\n",
              "      border-color: transparent;\n",
              "      border-right-color: var(--fill-color);\n",
              "    }\n",
              "    80% {\n",
              "      border-color: transparent;\n",
              "      border-right-color: var(--fill-color);\n",
              "      border-bottom-color: var(--fill-color);\n",
              "    }\n",
              "    90% {\n",
              "      border-color: transparent;\n",
              "      border-bottom-color: var(--fill-color);\n",
              "    }\n",
              "  }\n",
              "</style>\n",
              "\n",
              "  <script>\n",
              "    async function quickchart(key) {\n",
              "      const quickchartButtonEl =\n",
              "        document.querySelector('#' + key + ' button');\n",
              "      quickchartButtonEl.disabled = true;  // To prevent multiple clicks.\n",
              "      quickchartButtonEl.classList.add('colab-df-spinner');\n",
              "      try {\n",
              "        const charts = await google.colab.kernel.invokeFunction(\n",
              "            'suggestCharts', [key], {});\n",
              "      } catch (error) {\n",
              "        console.error('Error during call to suggestCharts:', error);\n",
              "      }\n",
              "      quickchartButtonEl.classList.remove('colab-df-spinner');\n",
              "      quickchartButtonEl.classList.add('colab-df-quickchart-complete');\n",
              "    }\n",
              "    (() => {\n",
              "      let quickchartButtonEl =\n",
              "        document.querySelector('#df-b7978744-e4a4-4c86-bb9c-7007ecf36421 button');\n",
              "      quickchartButtonEl.style.display =\n",
              "        google.colab.kernel.accessAllowed ? 'block' : 'none';\n",
              "    })();\n",
              "  </script>\n",
              "</div>\n",
              "    </div>\n",
              "  </div>\n"
            ],
            "application/vnd.google.colaboratory.intrinsic+json": {
              "type": "dataframe",
              "repr_error": "0"
            }
          },
          "metadata": {},
          "execution_count": 3
        }
      ],
      "source": [
        "df = pd.read_csv('/content/tweets_coronavirus.csv', encoding='latin-1')\n",
        "df.sample(4)"
      ]
    },
    {
      "cell_type": "markdown",
      "metadata": {
        "id": "g8Pw_NtuSEid"
      },
      "source": [
        "#Ex.1 Preparation"
      ]
    },
    {
      "cell_type": "code",
      "execution_count": 4,
      "metadata": {
        "colab": {
          "base_uri": "https://localhost:8080/"
        },
        "id": "WyxXAA1L5vwy",
        "outputId": "7e9dae3f-1eac-4f9b-fa18-78e3c1ee20d1"
      },
      "outputs": [
        {
          "output_type": "execute_result",
          "data": {
            "text/plain": [
              "Sentiment\n",
              "Positive              11422\n",
              "Negative               9917\n",
              "Extremely Positive     6624\n",
              "Extremely Negative     5481\n",
              "Name: count, dtype: int64"
            ]
          },
          "metadata": {},
          "execution_count": 4
        }
      ],
      "source": [
        "df[\"Sentiment\"].value_counts()"
      ]
    },
    {
      "cell_type": "code",
      "execution_count": 5,
      "metadata": {
        "id": "qWKk9NzZQ9Jw"
      },
      "outputs": [],
      "source": [
        "df[\"Sentiment\"] = df[\"Sentiment\"].apply(lambda x: 1 if (x == \"Positive\" or x == \"Extremely Positive\")\n",
        "                                        else 0 if (x == \"Negative\" or x == \"Extremely Negative\")\n",
        "                                                else np.NaN)"
      ]
    },
    {
      "cell_type": "code",
      "execution_count": 6,
      "metadata": {
        "colab": {
          "base_uri": "https://localhost:8080/"
        },
        "id": "DwpUrcmYTDiG",
        "outputId": "70447739-dab1-44bd-ebaf-55cac816bbca"
      },
      "outputs": [
        {
          "output_type": "stream",
          "name": "stdout",
          "text": [
            "Sentiment\n",
            "1    18046\n",
            "0    15398\n",
            "Name: count, dtype: int64 \n",
            "\n",
            "Разница:  0.14673611880749196\n",
            "\n",
            "Как видим, количество позитивных и негативных отличается примерно на 14%, данные сбалансированы\n",
            "\n",
            "Количество пропусков:  7049  Количество пропусков в таргете:  0\n",
            "\n",
            "Количество пропусков:  0\n"
          ]
        }
      ],
      "source": [
        "balance = df[\"Sentiment\"].value_counts()\n",
        "print(balance, \"\\n\\nРазница: \", (balance[1] - balance[0]) / balance[1])\n",
        "print(\"\\nКак видим, количество позитивных и негативных отличается примерно на 14%, данные сбалансированы\")\n",
        "\n",
        "print(\"\\nКоличество пропусков: \", df.isna().sum().sum(),\n",
        "      \" Количество пропусков в таргете: \", df[\"Sentiment\"].isna().sum().sum())\n",
        "\n",
        "df.fillna(\"Unknown\", inplace=True)\n",
        "\n",
        "print(\"\\nКоличество пропусков: \", df.isna().sum().sum())"
      ]
    },
    {
      "cell_type": "code",
      "execution_count": 7,
      "metadata": {
        "id": "BZwLBZP_WJtM"
      },
      "outputs": [],
      "source": [
        "X_train, X_test = train_test_split(df, train_size=0.7, random_state=0)"
      ]
    },
    {
      "cell_type": "markdown",
      "metadata": {
        "id": "Z149-J3QfE1p"
      },
      "source": [
        "#Ex.2 Tokenization"
      ]
    },
    {
      "cell_type": "code",
      "execution_count": 8,
      "metadata": {
        "id": "lhKqCdETntMT"
      },
      "outputs": [],
      "source": [
        "tokens = Counter()\n",
        "\n",
        "vsp = X_train[\"OriginalTweet\"].apply(lambda x: tokens.update(Counter(x.lower().split())))"
      ]
    },
    {
      "cell_type": "code",
      "execution_count": 9,
      "metadata": {
        "colab": {
          "base_uri": "https://localhost:8080/"
        },
        "id": "VNmXKGMWfeWY",
        "outputId": "6819664b-af4b-437c-b5b2-1567e229ff81"
      },
      "outputs": [
        {
          "output_type": "stream",
          "name": "stdout",
          "text": [
            "    Размер словаря:  79755\n",
            "\n",
            "    Топ 10 популярных слов\n",
            "==============================\n",
            "    the            26815\n",
            "    to             23373\n",
            "    and            14684\n",
            "    of             13012\n",
            "    a              11737\n",
            "    in             11198\n",
            "    for            8566\n",
            "    #coronavirus   8223\n",
            "    is             7383\n",
            "    are            7050\n"
          ]
        }
      ],
      "source": [
        "print(\"    Размер словаря: \", len(tokens))\n",
        "print(\"\\n    Топ 10 популярных слов\\n==============================\",)\n",
        "top10 = dict(sorted(tokens.items(), key=lambda item: item[1], reverse=True)[:10])\n",
        "for key in top10:\n",
        "  print(\"   \", key, \" \" * (13 - len(key)), top10[key])\n",
        "\n",
        "#Слова в топе тк это предлоги или артикли, их больше в речи"
      ]
    },
    {
      "cell_type": "code",
      "execution_count": 10,
      "metadata": {
        "colab": {
          "base_uri": "https://localhost:8080/"
        },
        "id": "aOiZqiCuozng",
        "outputId": "cb2e5cfd-a138-4b61-d0ca-a529f702d5e3"
      },
      "outputs": [
        {
          "output_type": "stream",
          "name": "stdout",
          "text": [
            "\n",
            "     Размер словаря:  79584\n",
            "\n",
            "Топ 10 популярных слов без стоп слов:\n",
            "=====================================\n",
            "       #coronavirus   8223\n",
            "       prices         3891\n",
            "       food           3820\n",
            "       grocery        3469\n",
            "       supermarket    3288\n",
            "       people         3175\n",
            "       covid-19       3173\n",
            "       store          3155\n",
            "       #covid19       2471\n",
            "       &amp;          2314\n",
            "\n",
            "\n",
            "\n"
          ]
        },
        {
          "output_type": "stream",
          "name": "stderr",
          "text": [
            "[nltk_data] Downloading package stopwords to /root/nltk_data...\n",
            "[nltk_data]   Package stopwords is already up-to-date!\n"
          ]
        }
      ],
      "source": [
        "nltk.download('stopwords')\n",
        "\n",
        "for i in stopwords.words('english'):\n",
        "  if i in tokens:\n",
        "    tokens.pop(i)\n",
        "\n",
        "top10_without_stops = dict(sorted(tokens.items(), key=lambda item: item[1], reverse=True)[:10])\n",
        "\n",
        "print(\"\\n     Размер словаря: \", len(tokens))\n",
        "print(\"\\nТоп 10 популярных слов без стоп слов:\\n=====================================\")\n",
        "\n",
        "for key in top10_without_stops:\n",
        "  print(\"      \", key, \" \" * (13 - len(key)), top10_without_stops[key])\n",
        "print(\"\\n\\n\")\n",
        "\n",
        "#Слова в топе касаются коронавируса и проблем, связанных с ним: люди, еда, супермаркеты итд"
      ]
    },
    {
      "cell_type": "code",
      "execution_count": 11,
      "metadata": {
        "colab": {
          "base_uri": "https://localhost:8080/"
        },
        "id": "5He3daMuuO4Z",
        "outputId": "d03ef255-ac89-4c89-f382-66856045e745"
      },
      "outputs": [
        {
          "output_type": "stream",
          "name": "stdout",
          "text": [
            "\n",
            "       Размер словаря:  79584\n",
            "\n",
            "Топ 20 непопулярных слов без стоп слов:\n",
            "=======================================\n",
            "    https://t.co/1m881cwfuv   1\n",
            "    happy..                   1\n",
            "    https://t.co/z0intks34x   1\n",
            "    mnuchinãâs              1\n",
            "    brink.                    1\n",
            "    https://t.co/jmobv8z0u0   1\n",
            "    university's              1\n",
            "    teaching.)                1\n",
            "    @catholicpres             1\n",
            "    @catholicuniv             1\n",
            "    https://t.co/evqby035wf   1\n",
            "    https://t.co/riqrhxxeim   1\n",
            "    @@ballardspahrll          1\n",
            "    #aca                      1\n",
            "    easier...take             1\n",
            "    ãânecessaryãâ         1\n",
            "    https://t.co/0fmsmlgepm   1\n",
            "    husted:                   1\n",
            "    irishman                  1\n",
            "    #happystpatricksday!      1\n"
          ]
        }
      ],
      "source": [
        "untop20 = dict(sorted(tokens.items(), key=lambda item: item[1])[:20])\n",
        "\n",
        "print(\"\\n       Размер словаря: \", len(tokens))\n",
        "print(\"\\nТоп 20 непопулярных слов без стоп слов:\\n=======================================\")\n",
        "\n",
        "for key in untop20:\n",
        "  print(\"   \", key, \" \" * (24 - len(key)), untop20[key])\n",
        "\n",
        "#Много бессмысленных ссылок, которые нужно убирать"
      ]
    },
    {
      "cell_type": "code",
      "execution_count": 12,
      "metadata": {
        "id": "xXwWKFPZSQuf"
      },
      "outputs": [],
      "source": [
        "tokenizer = TweetTokenizer()\n",
        "\n",
        "tokens = Counter({})\n",
        "\n",
        "vsp = X_train[\"OriginalTweet\"].apply(lambda x: tokens.update(Counter(tokenizer.tokenize(x.lower()))))"
      ]
    },
    {
      "cell_type": "code",
      "execution_count": 13,
      "metadata": {
        "colab": {
          "base_uri": "https://localhost:8080/"
        },
        "id": "Mkanc3L3bgvu",
        "outputId": "762693a8-433d-434f-eb3b-36195f3fce80"
      },
      "outputs": [
        {
          "output_type": "stream",
          "name": "stdout",
          "text": [
            "\n",
            "        Размер словаря:  58348\n",
            "\n",
            "Топ 10 популярных слов c Токенайзером:\n",
            "======================================\n",
            "         the            26993\n",
            "         .              24118\n",
            "         to             23478\n",
            "         ,              17571\n",
            "         and            14825\n",
            "         of             13044\n",
            "         a              11891\n",
            "         in             11348\n",
            "         ?              9524\n",
            "         #coronavirus   8808\n"
          ]
        }
      ],
      "source": [
        "top10_TT = dict(sorted(tokens.items(), key=lambda item: item[1], reverse=True)[:10])\n",
        "\n",
        "print(\"\\n        Размер словаря: \", len(tokens))\n",
        "print(\"\\nТоп 10 популярных слов c Токенайзером:\\n======================================\")\n",
        "\n",
        "for key in top10_TT:\n",
        "  print(\"        \", key, \" \" * (13 - len(key)), top10_TT[key])\n",
        "\n",
        "#Топ отличается, потому что токенайзер отделяет знаки препинания, они очевидно есть в топе"
      ]
    },
    {
      "cell_type": "code",
      "execution_count": 14,
      "metadata": {
        "colab": {
          "base_uri": "https://localhost:8080/"
        },
        "id": "XhyPgC20cye3",
        "outputId": "e4c1affe-cd8d-4495-ba01-ca83300b3231"
      },
      "outputs": [
        {
          "output_type": "stream",
          "name": "stdout",
          "text": [
            "\n",
            "              Размер словаря:  58145\n",
            "\n",
            "Топ 10 популярных слов c Токенайзером и без стоп слов:\n",
            "======================================================\n",
            "                #coronavirus   8808\n",
            "                â              7415\n",
            "                              7311\n",
            "                19             7167\n",
            "                covid          6253\n",
            "                prices         4601\n",
            "                              4372\n",
            "                food           4367\n",
            "                store          3877\n",
            "                supermarket    3805\n"
          ]
        }
      ],
      "source": [
        "for i in stopwords.words('english'):\n",
        "  if i in tokens:\n",
        "    tokens.pop(i)\n",
        "\n",
        "for i in punctuation:\n",
        "  if i in tokens:\n",
        "    tokens.pop(i)\n",
        "\n",
        "top10_TT_without_stops = dict(sorted(tokens.items(), key=lambda item: item[1], reverse=True)[:10])\n",
        "\n",
        "print(\"\\n              Размер словаря: \", len(tokens))\n",
        "print(\"\\nТоп 10 популярных слов c Токенайзером и без стоп слов:\\n======================================================\")\n",
        "\n",
        "for key in top10_TT_without_stops:\n",
        "  print(\"               \", key, \" \" * (13 - len(key)), top10_TT_without_stops[key])\n",
        "\n",
        "#Топ стал похожим на адекватный, но остались слова-символы, которые бы надо удалить"
      ]
    },
    {
      "cell_type": "code",
      "execution_count": 15,
      "metadata": {
        "colab": {
          "base_uri": "https://localhost:8080/"
        },
        "id": "15ghzHCZddzM",
        "outputId": "7e8188f4-3eb1-4a2a-f067-67f0d7ce743d"
      },
      "outputs": [
        {
          "output_type": "stream",
          "name": "stdout",
          "text": [
            "\n",
            "              Размер словаря:  58105\n",
            "\n",
            "Топ 10 популярных слов c Токенайзером и без стоп слов:\n",
            "======================================================\n",
            "                #coronavirus   8808\n",
            "                19             7167\n",
            "                covid          6253\n",
            "                prices         4601\n",
            "                food           4367\n",
            "                store          3877\n",
            "                supermarket    3805\n",
            "                grocery        3523\n",
            "                people         3463\n",
            "                #covid19       2589\n",
            "\n",
            "\n",
            "Топ 20 непопулярных слов c Токенайзером и без стоп слов:\n",
            "=======================================================\n",
            "            https://t.co/1m881cwfuv   1\n",
            "            https://t.co/z0intks34x   1\n",
            "            mnuchinã                  1\n",
            "            https://t.co/jmobv8z0u0   1\n",
            "            university's              1\n",
            "            @catholicpres             1\n",
            "            @catholicuniv             1\n",
            "            https://t.co/evqby035wf   1\n",
            "            https://t.co/riqrhxxeim   1\n",
            "            @ballardspahrll           1\n",
            "            #aca                      1\n",
            "            https://t.co/0fmsmlgepm   1\n",
            "            irishman                  1\n",
            "            #happystpatricksday       1\n",
            "            guiness                   1\n",
            "            https://t.co/18v0pyhwb7   1\n",
            "            https://t.co/ls0g86i8pu   1\n",
            "            https://t.co/ofvkejff23   1\n",
            "            https://t.co/xoodgd2ulx   1\n",
            "            lifestyles                1\n"
          ]
        }
      ],
      "source": [
        "t = tokens.copy()\n",
        "\n",
        "for i in t:\n",
        "  if len(i) == 1 and ord(i) >= 128:\n",
        "    tokens.pop(i)\n",
        "\n",
        "top10_TT_without_stops2 = dict(sorted(tokens.items(), key=lambda item: item[1], reverse=True)[:10])\n",
        "untop20_TT = dict(sorted(tokens.items(), key=lambda item: item[1])[:20])\n",
        "\n",
        "print(\"\\n              Размер словаря: \", len(tokens))\n",
        "print(\"\\nТоп 10 популярных слов c Токенайзером и без стоп слов:\\n======================================================\")\n",
        "\n",
        "for key in top10_TT_without_stops2:\n",
        "  print(\"               \", key, \" \" * (13 - len(key)), top10_TT_without_stops2[key])\n",
        "\n",
        "print(\"\\n\\nТоп 20 непопулярных слов c Токенайзером и без стоп слов:\\n=======================================================\")\n",
        "\n",
        "for key in untop20_TT:\n",
        "  print(\"           \", key, \" \" * (24 - len(key)), untop20_TT[key])\n",
        "\n",
        "#Новые топы стали лучше. Токенизируя по пробелам, многие популярные слова разделяются,\n",
        "#потому что после них могли быть знаки препинания"
      ]
    },
    {
      "cell_type": "code",
      "execution_count": 16,
      "metadata": {
        "colab": {
          "base_uri": "https://localhost:8080/"
        },
        "id": "8YdiEM-iiMs1",
        "outputId": "bdf37d5b-35bd-48f8-c3ce-c21979c4abb4"
      },
      "outputs": [
        {
          "output_type": "stream",
          "name": "stdout",
          "text": [
            "   Топ 10 популярных хэштегов\n",
            "===============================\n",
            "   #coronavirus          8808\n",
            "   #covid19              2589\n",
            "   #covid_19             1734\n",
            "   #covid2019            946\n",
            "   #toiletpaper          744\n",
            "   #covid                641\n",
            "   #socialdistancing     465\n",
            "   #coronacrisis         448\n",
            "   #pandemic             257\n",
            "   #coronaviruspandemic  249\n"
          ]
        }
      ],
      "source": [
        "top10_hashtag = dict(sorted(tokens.items(), key=lambda item: item[1] if item[0][0] == \"#\" else 0, reverse=True)[:10])\n",
        "\n",
        "print(\"   Топ 10 популярных хэштегов\\n===============================\")\n",
        "for key in top10_hashtag:\n",
        "  print(\"  \", key, \" \" * (20 - len(key)), top10_hashtag[key])\n",
        "\n",
        "#Очевидно, что хэштеги касаются коронавируса и проблем, связанных с ним"
      ]
    },
    {
      "cell_type": "code",
      "execution_count": 17,
      "metadata": {
        "colab": {
          "base_uri": "https://localhost:8080/"
        },
        "id": "uwiS6fhQMP0M",
        "outputId": "d3ef8e80-9eb9-4445-bc66-280ece25e4a0"
      },
      "outputs": [
        {
          "output_type": "stream",
          "name": "stdout",
          "text": [
            "       Топ 10 популярных ссылок\n",
            "====================================\n",
            "   https://t.co/oxa7swtond      5\n",
            "   https://t.co/gp3eusapl8      4\n",
            "   https://t.co/deftrui1pfãâ   3\n",
            "   https://t.co/wrlhyzizaa      3\n",
            "   https://t.co/kuwipf1kqw      3\n",
            "   https://t.co/zjnrx6dkkn      3\n",
            "   https://t.co/3gbbdpdjat      3\n",
            "   https://t.co/e2znxajpre      3\n",
            "   https://t.co/catkegayoy      3\n",
            "   https://t.co/g63rp042ho      3\n"
          ]
        }
      ],
      "source": [
        "top10_hashtag = dict(sorted(tokens.items(), key=lambda item: item[1] if item[0][:13] == \"https://t.co/\" else 0, reverse=True)[:10])\n",
        "\n",
        "print(\"       Топ 10 популярных ссылок\\n====================================\")\n",
        "for key in top10_hashtag:\n",
        "  print(\"  \", key, \" \" * (27 - len(key)), top10_hashtag[key])\n",
        "\n",
        "#Ссылки надо удалять"
      ]
    },
    {
      "cell_type": "code",
      "execution_count": 18,
      "metadata": {
        "id": "NOGYjgA-N5c5"
      },
      "outputs": [],
      "source": [
        "def custom_tokenizer(text):\n",
        "\n",
        "  ##to_lower()\n",
        "  text = text.lower()\n",
        "\n",
        "  #tokenization\n",
        "  tk = TweetTokenizer()\n",
        "  tokens = tk.tokenize(text)\n",
        "\n",
        "  #changing\n",
        "  tokens = [i for i in tokens if not(len(i) == 1 and ord(i) >= 128 or\n",
        "                                     i in punctuation or\n",
        "                                     i[:13] == \"https://t.co/\" or\n",
        "                                     i in stopwords.words('english'))]\n",
        "  return tokens"
      ]
    },
    {
      "cell_type": "code",
      "execution_count": 19,
      "metadata": {
        "colab": {
          "base_uri": "https://localhost:8080/"
        },
        "id": "yCGWXYyXQEP6",
        "outputId": "69706371-c821-4583-ef6f-a9e676822ac9"
      },
      "outputs": [
        {
          "output_type": "execute_result",
          "data": {
            "text/plain": [
              "['sample', 'text', '@sample_text', '#sampletext']"
            ]
          },
          "metadata": {},
          "execution_count": 19
        }
      ],
      "source": [
        "custom_tokenizer('This is sample text!!!! @Sample_text I, \\x92\\x92 https://t.co/sample  #sampletext')"
      ]
    },
    {
      "cell_type": "markdown",
      "metadata": {
        "id": "45vanTkpj8JF"
      },
      "source": [
        "#Ex. 3 Vectorization of texts"
      ]
    },
    {
      "cell_type": "code",
      "execution_count": 20,
      "metadata": {
        "colab": {
          "base_uri": "https://localhost:8080/"
        },
        "id": "wwhMSnYgj7wG",
        "outputId": "a3483f69-93db-4fdb-c0ac-68c3bb826b49"
      },
      "outputs": [
        {
          "output_type": "stream",
          "name": "stderr",
          "text": [
            "/usr/local/lib/python3.10/dist-packages/sklearn/feature_extraction/text.py:528: UserWarning: The parameter 'token_pattern' will not be used since 'tokenizer' is not None'\n",
            "  warnings.warn(\n"
          ]
        },
        {
          "output_type": "stream",
          "name": "stdout",
          "text": [
            "45308\n"
          ]
        }
      ],
      "source": [
        "cv = CountVectorizer(tokenizer=custom_tokenizer)\n",
        "\n",
        "cv.fit(X_train[\"OriginalTweet\"])\n",
        "\n",
        "print(len(cv.vocabulary_))\n",
        "#Словарь намного меньше"
      ]
    },
    {
      "cell_type": "code",
      "execution_count": 21,
      "metadata": {
        "colab": {
          "base_uri": "https://localhost:8080/"
        },
        "id": "fhFs49qGQHVK",
        "outputId": "a250eec3-dc6e-4d63-fbc4-3a367a8a8048"
      },
      "outputs": [
        {
          "output_type": "stream",
          "name": "stdout",
          "text": [
            "Nice one @SkyNews lets not panic but show ppl in france queueing for food!!! #CoronavirusOutbreak #COVID2019 brainless!! Ffs  -  Negative \n",
            "\n",
            "\n",
            "       Токены 9023 твита\n",
            "===============================\n",
            "    #coronavirusoutbreak  1\n",
            "    #covid2019            1\n",
            "    @skynews              1\n",
            "    brainless             1\n",
            "    ffs                   1\n",
            "    food                  1\n",
            "    france                1\n",
            "    lets                  1\n",
            "    nice                  1\n",
            "    one                   1\n",
            "    panic                 1\n",
            "    ppl                   1\n",
            "    queueing              1\n",
            "    show                  1\n"
          ]
        }
      ],
      "source": [
        "ind = 9023\n",
        "print(X_train.iloc[ind]['OriginalTweet'],\" - \", \"Negative\" if not X_train[\"Sentiment\"].iloc[ind] else \"Positive\", \"\\n\\n\")\n",
        "\n",
        "res = cv.transform([X_train.iloc[ind]['OriginalTweet']])\n",
        "\n",
        "indexes = np.where(res.toarray()[0] > 0)\n",
        "sent = np.array(cv.get_feature_names_out())[indexes]\n",
        "\n",
        "print(\"       Токены 9023 твита\\n===============================\")\n",
        "for i in range(len(sent)):\n",
        "  print(\"   \", sent[i], \" \" * (20 - len(sent[i])), res.toarray()[0][indexes[0][i]])\n",
        "\n",
        "#Важность токенов одинаковая, они все встречаются по одному разу в твите"
      ]
    },
    {
      "cell_type": "code",
      "execution_count": 22,
      "metadata": {
        "colab": {
          "base_uri": "https://localhost:8080/",
          "height": 0
        },
        "id": "i8pNv203Ajxc",
        "outputId": "0a28b592-11f8-4816-9507-5acae672ec10"
      },
      "outputs": [
        {
          "output_type": "execute_result",
          "data": {
            "text/plain": [
              "TfidfVectorizer(tokenizer=<function custom_tokenizer at 0x7bf6ccb464d0>)"
            ],
            "text/html": [
              "<style>#sk-container-id-1 {color: black;background-color: white;}#sk-container-id-1 pre{padding: 0;}#sk-container-id-1 div.sk-toggleable {background-color: white;}#sk-container-id-1 label.sk-toggleable__label {cursor: pointer;display: block;width: 100%;margin-bottom: 0;padding: 0.3em;box-sizing: border-box;text-align: center;}#sk-container-id-1 label.sk-toggleable__label-arrow:before {content: \"▸\";float: left;margin-right: 0.25em;color: #696969;}#sk-container-id-1 label.sk-toggleable__label-arrow:hover:before {color: black;}#sk-container-id-1 div.sk-estimator:hover label.sk-toggleable__label-arrow:before {color: black;}#sk-container-id-1 div.sk-toggleable__content {max-height: 0;max-width: 0;overflow: hidden;text-align: left;background-color: #f0f8ff;}#sk-container-id-1 div.sk-toggleable__content pre {margin: 0.2em;color: black;border-radius: 0.25em;background-color: #f0f8ff;}#sk-container-id-1 input.sk-toggleable__control:checked~div.sk-toggleable__content {max-height: 200px;max-width: 100%;overflow: auto;}#sk-container-id-1 input.sk-toggleable__control:checked~label.sk-toggleable__label-arrow:before {content: \"▾\";}#sk-container-id-1 div.sk-estimator input.sk-toggleable__control:checked~label.sk-toggleable__label {background-color: #d4ebff;}#sk-container-id-1 div.sk-label input.sk-toggleable__control:checked~label.sk-toggleable__label {background-color: #d4ebff;}#sk-container-id-1 input.sk-hidden--visually {border: 0;clip: rect(1px 1px 1px 1px);clip: rect(1px, 1px, 1px, 1px);height: 1px;margin: -1px;overflow: hidden;padding: 0;position: absolute;width: 1px;}#sk-container-id-1 div.sk-estimator {font-family: monospace;background-color: #f0f8ff;border: 1px dotted black;border-radius: 0.25em;box-sizing: border-box;margin-bottom: 0.5em;}#sk-container-id-1 div.sk-estimator:hover {background-color: #d4ebff;}#sk-container-id-1 div.sk-parallel-item::after {content: \"\";width: 100%;border-bottom: 1px solid gray;flex-grow: 1;}#sk-container-id-1 div.sk-label:hover label.sk-toggleable__label {background-color: #d4ebff;}#sk-container-id-1 div.sk-serial::before {content: \"\";position: absolute;border-left: 1px solid gray;box-sizing: border-box;top: 0;bottom: 0;left: 50%;z-index: 0;}#sk-container-id-1 div.sk-serial {display: flex;flex-direction: column;align-items: center;background-color: white;padding-right: 0.2em;padding-left: 0.2em;position: relative;}#sk-container-id-1 div.sk-item {position: relative;z-index: 1;}#sk-container-id-1 div.sk-parallel {display: flex;align-items: stretch;justify-content: center;background-color: white;position: relative;}#sk-container-id-1 div.sk-item::before, #sk-container-id-1 div.sk-parallel-item::before {content: \"\";position: absolute;border-left: 1px solid gray;box-sizing: border-box;top: 0;bottom: 0;left: 50%;z-index: -1;}#sk-container-id-1 div.sk-parallel-item {display: flex;flex-direction: column;z-index: 1;position: relative;background-color: white;}#sk-container-id-1 div.sk-parallel-item:first-child::after {align-self: flex-end;width: 50%;}#sk-container-id-1 div.sk-parallel-item:last-child::after {align-self: flex-start;width: 50%;}#sk-container-id-1 div.sk-parallel-item:only-child::after {width: 0;}#sk-container-id-1 div.sk-dashed-wrapped {border: 1px dashed gray;margin: 0 0.4em 0.5em 0.4em;box-sizing: border-box;padding-bottom: 0.4em;background-color: white;}#sk-container-id-1 div.sk-label label {font-family: monospace;font-weight: bold;display: inline-block;line-height: 1.2em;}#sk-container-id-1 div.sk-label-container {text-align: center;}#sk-container-id-1 div.sk-container {/* jupyter's `normalize.less` sets `[hidden] { display: none; }` but bootstrap.min.css set `[hidden] { display: none !important; }` so we also need the `!important` here to be able to override the default hidden behavior on the sphinx rendered scikit-learn.org. See: https://github.com/scikit-learn/scikit-learn/issues/21755 */display: inline-block !important;position: relative;}#sk-container-id-1 div.sk-text-repr-fallback {display: none;}</style><div id=\"sk-container-id-1\" class=\"sk-top-container\"><div class=\"sk-text-repr-fallback\"><pre>TfidfVectorizer(tokenizer=&lt;function custom_tokenizer at 0x7bf6ccb464d0&gt;)</pre><b>In a Jupyter environment, please rerun this cell to show the HTML representation or trust the notebook. <br />On GitHub, the HTML representation is unable to render, please try loading this page with nbviewer.org.</b></div><div class=\"sk-container\" hidden><div class=\"sk-item\"><div class=\"sk-estimator sk-toggleable\"><input class=\"sk-toggleable__control sk-hidden--visually\" id=\"sk-estimator-id-1\" type=\"checkbox\" checked><label for=\"sk-estimator-id-1\" class=\"sk-toggleable__label sk-toggleable__label-arrow\">TfidfVectorizer</label><div class=\"sk-toggleable__content\"><pre>TfidfVectorizer(tokenizer=&lt;function custom_tokenizer at 0x7bf6ccb464d0&gt;)</pre></div></div></div></div></div>"
            ]
          },
          "metadata": {},
          "execution_count": 22
        }
      ],
      "source": [
        "tfid = TfidfVectorizer(tokenizer=custom_tokenizer)\n",
        "tfid.fit(X_train[\"OriginalTweet\"])"
      ]
    },
    {
      "cell_type": "code",
      "execution_count": 23,
      "metadata": {
        "colab": {
          "base_uri": "https://localhost:8080/"
        },
        "id": "lbWii-p9G-3Q",
        "outputId": "301ecc33-780c-4f08-fd4b-57bfb4afdcf3"
      },
      "outputs": [
        {
          "output_type": "stream",
          "name": "stdout",
          "text": [
            "               Токены 9023 твита\n",
            "==================================================\n",
            "    #coronavirusoutbreak  0.226\n",
            "    #covid2019            0.168\n",
            "    @skynews              0.31\n",
            "    brainless             0.387\n",
            "    ffs                   0.324\n",
            "    food                  0.113\n",
            "    france                0.32\n",
            "    lets                  0.301\n",
            "    nice                  0.254\n",
            "    one                   0.163\n",
            "    panic                 0.148\n",
            "    ppl                   0.255\n",
            "    queueing              0.354\n",
            "    show                  0.244\n"
          ]
        }
      ],
      "source": [
        "res = tfid.transform([X_train.iloc[ind]['OriginalTweet']])\n",
        "\n",
        "indexes = np.where(res.toarray()[0] != 0)\n",
        "sent = (np.array(tfid.get_feature_names_out()))[indexes]\n",
        "\n",
        "print(\"               Токены 9023 твита\\n==================================================\")\n",
        "for i in range(len(sent)):\n",
        "  print(\"   \", sent[i], \" \" * (20 - len(sent[i])), round(res.toarray()[0][indexes[0][i]], 3))\n",
        "\n",
        "#Самый важный токен - brainless. Определилось хорошо. Самый бесполезный - food. Относительно\n",
        "#неверно, потому что во время пандемии про еду говорили именно обсуждая проблемы"
      ]
    },
    {
      "cell_type": "code",
      "execution_count": 24,
      "metadata": {
        "colab": {
          "base_uri": "https://localhost:8080/"
        },
        "id": "zsC_86VNahyn",
        "outputId": "e5d1e05d-6074-47e1-fcbf-56d369d04d29"
      },
      "outputs": [
        {
          "output_type": "stream",
          "name": "stdout",
          "text": [
            "\n",
            "==================================================\n",
            "Текст:  Hearing so many stories of NHS heroes Teachers have been equally amazing Having briefly walked into a supermarket today and walked out again there are some absolute superstar supermarket workers out there too \n",
            "Самый важный токен:  walked\n",
            "    absolute              0.244\n",
            "    amazing               0.215\n",
            "    briefly               0.312\n",
            "    equally               0.298\n",
            "    hearing               0.244\n",
            "    heroes                0.201\n",
            "    many                  0.147\n",
            "    nhs                   0.197\n",
            "    stories               0.245\n",
            "    supermarket           0.191\n",
            "    superstar             0.318\n",
            "    teachers              0.23\n",
            "    today                 0.148\n",
            "    walked                0.507\n",
            "    workers               0.13\n",
            "\n",
            "==================================================\n",
            "Текст:  Let s just take a minute to say THANK YOU also to the amazing postal workers So many real people behind a click of online shopping and getting cards delivered Thank   you   19 \n",
            "Самый важный токен:  thank\n",
            "    19                    0.086\n",
            "    also                  0.179\n",
            "    amazing               0.25\n",
            "    behind                0.254\n",
            "    cards                 0.281\n",
            "    click                 0.257\n",
            "    delivered             0.258\n",
            "    getting               0.197\n",
            "    let                   0.213\n",
            "    many                  0.171\n",
            "    minute                0.294\n",
            "    online                0.142\n",
            "    people                0.119\n",
            "    postal                0.299\n",
            "    real                  0.219\n",
            "    say                   0.201\n",
            "    shopping              0.14\n",
            "    take                  0.176\n",
            "    thank                 0.369\n",
            "    workers               0.151\n",
            "\n",
            "==================================================\n",
            "Текст:  @HaileeSteinfeld IÃÂm good. Trying to keep myself busy in the form of Call of Duty, watching Dickinson which is awesome, and online shopping! Can also confirm no one in my family has tested positive for COVID-19. How are you doing? \n",
            "Самый важный токен:  @haileesteinfeld\n",
            "    19                    0.076\n",
            "    @haileesteinfeld      0.356\n",
            "    also                  0.157\n",
            "    awesome               0.259\n",
            "    busy                  0.236\n",
            "    call                  0.186\n",
            "    confirm               0.298\n",
            "    covid                 0.081\n",
            "    dickinson             0.356\n",
            "    duty                  0.276\n",
            "    family                0.183\n",
            "    form                  0.242\n",
            "    good                  0.159\n",
            "    iã                    0.163\n",
            "    keep                  0.149\n",
            "    one                   0.14\n",
            "    online                0.125\n",
            "    positive              0.192\n",
            "    shopping              0.123\n",
            "    tested                0.206\n",
            "    trying                0.184\n",
            "    watching              0.239\n",
            "\n",
            "==================================================\n",
            "Текст:  Get creative while in confinement This week we launched the x submit covid 19 contest This involves different forms of competitions such as essay writing MCQ questions and a selfie contest The winners will be getting awesome prices in the days ahead \n",
            "Самый важный токен:  contest\n",
            "    19                    0.054\n",
            "    ahead                 0.167\n",
            "    awesome               0.185\n",
            "    competitions          0.244\n",
            "    confinement           0.227\n",
            "    contest               0.474\n",
            "    covid                 0.057\n",
            "    creative              0.183\n",
            "    days                  0.123\n",
            "    different             0.153\n",
            "    essay                 0.217\n",
            "    forms                 0.223\n",
            "    get                   0.09\n",
            "    getting               0.124\n",
            "    involves              0.217\n",
            "    launched              0.172\n",
            "    mcq                   0.254\n",
            "    prices                0.066\n",
            "    questions             0.158\n",
            "    selfie                0.237\n",
            "    submit                0.208\n",
            "    week                  0.117\n",
            "    winners               0.212\n",
            "    writing               0.202\n",
            "    x                     0.185\n",
            "\n",
            "==================================================\n",
            "Текст:  For all the grocery store workers during this time .. Thank you ? ...also a great time to ask for a minimum wage increase for your fantastic work ? #CoronaCrisis #onpoli \n",
            "Самый важный токен:  #onpoli\n",
            "    #coronacrisis         0.21\n",
            "    #onpoli               0.38\n",
            "    ..                    0.225\n",
            "    ...                   0.165\n",
            "    also                  0.193\n",
            "    ask                   0.261\n",
            "    fantastic             0.363\n",
            "    great                 0.212\n",
            "    grocery               0.124\n",
            "    increase              0.218\n",
            "    minimum               0.29\n",
            "    store                 0.121\n",
            "    thank                 0.2\n",
            "    time                  0.326\n",
            "    wage                  0.288\n",
            "    work                  0.181\n",
            "    workers               0.164\n",
            "\n",
            "==================================================\n",
            "Текст:  Thanks @AldiUSA for the fantastic online shopping and delivery! Grateful for all your workers on the front lines. #gratitude #COVID19 #coronavirus #stayhome #besafe ?? #groceryshopping #familymeals https://t.co/3KybCWqdPp \n",
            "Самый важный токен:  #familymeals\n",
            "    #besafe               0.313\n",
            "    #coronavirus          0.074\n",
            "    #covid19              0.119\n",
            "    #familymeals          0.385\n",
            "    #gratitude            0.329\n",
            "    #groceryshopping      0.281\n",
            "    #stayhome             0.208\n",
            "    @aldiusa              0.351\n",
            "    delivery              0.167\n",
            "    fantastic             0.318\n",
            "    front                 0.208\n",
            "    grateful              0.255\n",
            "    lines                 0.218\n",
            "    online                0.135\n",
            "    shopping              0.133\n",
            "    thanks                0.2\n",
            "    workers               0.144\n"
          ]
        }
      ],
      "source": [
        "good_words = [\"amazing\", \"awesome\", \"fantastic\"]\n",
        "\n",
        "max_text = \"\"\n",
        "max_index = 0\n",
        "max_value = -1\n",
        "\n",
        "for i in good_words:\n",
        "  arr_with_good_word = X_train[X_train[\"OriginalTweet\"].str.contains(i) & X_train[\"Sentiment\"] == 1][\"OriginalTweet\"]\n",
        "  res = tfid.transform(arr_with_good_word)\n",
        "  for j in range(min(2, len(arr_with_good_word))):\n",
        "    indexes = np.where(res.toarray()[j] != 0)\n",
        "    sent = (np.array(tfid.get_feature_names_out()))[indexes]\n",
        "    print(\"\\n==================================================\\nТекст: \", arr_with_good_word.iloc[j],\n",
        "          \"\\nСамый важный токен: \", np.array(tfid.get_feature_names_out())[res[j].argmax()])\n",
        "    for k in range(len(sent)):\n",
        "      print(\"   \", sent[k], \" \" * (20 - len(sent[k])), round(res.toarray()[j][indexes[0][k]], 3))\n",
        "\n",
        "#Относительно неплохо определилось для слова 'fantastic'. Хэштег familymeals звучит положительно"
      ]
    },
    {
      "cell_type": "markdown",
      "metadata": {
        "id": "i3nTnLBkaA1w"
      },
      "source": [
        "#Ex. 4 Training of the first models"
      ]
    },
    {
      "cell_type": "code",
      "execution_count": 25,
      "metadata": {
        "id": "cgh6BFDYGleu"
      },
      "outputs": [],
      "source": [
        "cv_res_train = cv.transform(X_train[\"OriginalTweet\"])\n",
        "tfid_res_train = tfid.transform(X_train[\"OriginalTweet\"])\n",
        "\n",
        "cv_res_test = cv.transform(X_test[\"OriginalTweet\"])\n",
        "tfid_res_test = tfid.transform(X_test[\"OriginalTweet\"])"
      ]
    },
    {
      "cell_type": "code",
      "execution_count": 26,
      "metadata": {
        "colab": {
          "base_uri": "https://localhost:8080/"
        },
        "id": "ZTL-amUGaRjr",
        "outputId": "ce59ec07-ff1a-4ec2-e639-9d9f9f5364f6"
      },
      "outputs": [
        {
          "output_type": "stream",
          "name": "stdout",
          "text": [
            "Accuraccy на CountVectorizer (train):  0.984\n",
            "Accuraccy на CountVectorizer (test):  0.867\n",
            "Accuraccy на TFIDVectorizer (train):  0.925\n",
            "Accuraccy на TFIDVectorizer (test):  0.853\n"
          ]
        }
      ],
      "source": [
        "log_reg = LogisticRegression(max_iter=250)\n",
        "log_reg.fit(cv_res_train, X_train[\"Sentiment\"])\n",
        "\n",
        "print(\"Accuraccy на CountVectorizer (train): \", round(accuracy_score(X_train[\"Sentiment\"], log_reg.predict(cv_res_train)),3))\n",
        "print(\"Accuraccy на CountVectorizer (test): \", round(accuracy_score(X_test[\"Sentiment\"], log_reg.predict(cv_res_test)), 3))\n",
        "\n",
        "log_reg.fit(tfid_res_train, X_train[\"Sentiment\"])\n",
        "\n",
        "print(\"Accuraccy на TFIDVectorizer (train): \", round(accuracy_score(X_train[\"Sentiment\"], log_reg.predict(tfid_res_train)), 3))\n",
        "print(\"Accuraccy на TFIDVectorizer (test): \", round(accuracy_score(X_test[\"Sentiment\"], log_reg.predict(tfid_res_test)), 3))\n",
        "\n",
        "#Лучший векторайзер - обычный. Но результаты у обоих неплохие"
      ]
    },
    {
      "cell_type": "markdown",
      "metadata": {
        "id": "_JrKDPRWOL4N"
      },
      "source": [
        "#Ex. 5 Stamming"
      ]
    },
    {
      "cell_type": "code",
      "execution_count": 27,
      "metadata": {
        "id": "hL7P0uo6b-p_"
      },
      "outputs": [],
      "source": [
        "def custom_stem_tokenizer(text):\n",
        "  ##to_lower()\n",
        "  text = text.lower()\n",
        "\n",
        "  stemmer = SnowballStemmer(language=\"english\")\n",
        "\n",
        "  #tokenization\n",
        "  tk = TweetTokenizer()\n",
        "  tokens = tk.tokenize(text)\n",
        "\n",
        "  #changing\n",
        "  tokens = [stemmer.stem(i) for i in tokens if not(len(i) == 1 and ord(i) >= 128 or\n",
        "                                     i in punctuation or\n",
        "                                     i[:13] == \"https://t.co/\" or\n",
        "                                     i in stopwords.words('english'))]\n",
        "\n",
        "  return tokens"
      ]
    },
    {
      "cell_type": "code",
      "execution_count": 28,
      "metadata": {
        "colab": {
          "base_uri": "https://localhost:8080/"
        },
        "id": "IsDR_OT0kC4k",
        "outputId": "c7b20a5d-0823-4823-c59f-6b76ea5cef6a"
      },
      "outputs": [
        {
          "output_type": "execute_result",
          "data": {
            "text/plain": [
              "['sampl', 'text', '@sample_text', '#sampletext', 'ad', 'word', 'check', 'stem']"
            ]
          },
          "metadata": {},
          "execution_count": 28
        }
      ],
      "source": [
        "custom_stem_tokenizer('This is sample text!!!! @Sample_text I, \\x92\\x92 https://t.co/sample  #sampletext adding more words to check stemming')"
      ]
    },
    {
      "cell_type": "code",
      "execution_count": 29,
      "metadata": {
        "colab": {
          "base_uri": "https://localhost:8080/"
        },
        "id": "Eu1GMW9pkGtY",
        "outputId": "0b633037-c54e-4b5a-cfec-a1b6405a3a91"
      },
      "outputs": [
        {
          "output_type": "stream",
          "name": "stderr",
          "text": [
            "/usr/local/lib/python3.10/dist-packages/sklearn/feature_extraction/text.py:528: UserWarning: The parameter 'token_pattern' will not be used since 'tokenizer' is not None'\n",
            "  warnings.warn(\n"
          ]
        },
        {
          "output_type": "stream",
          "name": "stdout",
          "text": [
            "36652\n"
          ]
        }
      ],
      "source": [
        "cv_stem = CountVectorizer(tokenizer=custom_stem_tokenizer)\n",
        "tfid_stem = TfidfVectorizer(tokenizer=custom_stem_tokenizer)\n",
        "\n",
        "cv_stem.fit(X_train[\"OriginalTweet\"])\n",
        "tfid_stem.fit(X_train[\"OriginalTweet\"])\n",
        "\n",
        "print(len(cv_stem.vocabulary_))"
      ]
    },
    {
      "cell_type": "code",
      "execution_count": 30,
      "metadata": {
        "id": "V3IVh37srul0"
      },
      "outputs": [],
      "source": [
        "cv_res_stem_train = cv_stem.transform(X_train[\"OriginalTweet\"])\n",
        "tfid_res_stem_train = tfid_stem.transform(X_train[\"OriginalTweet\"])\n",
        "\n",
        "cv_res_stem_test = cv_stem.transform(X_test[\"OriginalTweet\"])\n",
        "tfid_res_stem_test = tfid_stem.transform(X_test[\"OriginalTweet\"])"
      ]
    },
    {
      "cell_type": "code",
      "execution_count": 31,
      "metadata": {
        "colab": {
          "base_uri": "https://localhost:8080/"
        },
        "id": "FH1QqelKmGKU",
        "outputId": "9c9febcc-1166-46b6-d468-65cd5c124b69"
      },
      "outputs": [
        {
          "output_type": "stream",
          "name": "stdout",
          "text": [
            "Accuraccy на CountVectorizer (train):  0.972\n",
            "Accuraccy на CountVectorizer (test):  0.867\n",
            "Accuraccy на TFIDVectorizer (train):  0.916\n",
            "Accuraccy на TFIDVectorizer (test):  0.856\n"
          ]
        }
      ],
      "source": [
        "stem_log_reg = LogisticRegression(max_iter=250)\n",
        "\n",
        "stem_log_reg.fit(cv_res_stem_train, X_train[\"Sentiment\"])\n",
        "\n",
        "print(\"Accuraccy на CountVectorizer (train): \", round(accuracy_score(X_train[\"Sentiment\"], stem_log_reg.predict(cv_res_stem_train)),3))\n",
        "print(\"Accuraccy на CountVectorizer (test): \", round(accuracy_score(X_test[\"Sentiment\"], stem_log_reg.predict(cv_res_stem_test)), 3))\n",
        "\n",
        "stem_log_reg.fit(tfid_res_stem_train, X_train[\"Sentiment\"])\n",
        "\n",
        "print(\"Accuraccy на TFIDVectorizer (train): \", round(accuracy_score(X_train[\"Sentiment\"], stem_log_reg.predict(tfid_res_stem_train)), 3))\n",
        "print(\"Accuraccy на TFIDVectorizer (test): \", round(accuracy_score(X_test[\"Sentiment\"], stem_log_reg.predict(tfid_res_stem_test)), 3))\n",
        "\n",
        "#Почти ничего не поменялось, есть небольшой прирост, в целом применять стемминг можно"
      ]
    },
    {
      "cell_type": "markdown",
      "metadata": {
        "id": "BHUpwtNix_3H"
      },
      "source": [
        "#Ex. 6 Working with frequencies"
      ]
    },
    {
      "cell_type": "code",
      "execution_count": 32,
      "metadata": {
        "colab": {
          "base_uri": "https://localhost:8080/"
        },
        "id": "uHsdAFI7yTzg",
        "outputId": "9238472b-0657-4890-ebe7-0bb60034b8ca"
      },
      "outputs": [
        {
          "output_type": "stream",
          "name": "stderr",
          "text": [
            "/usr/local/lib/python3.10/dist-packages/sklearn/feature_extraction/text.py:528: UserWarning: The parameter 'token_pattern' will not be used since 'tokenizer' is not None'\n",
            "  warnings.warn(\n"
          ]
        },
        {
          "output_type": "stream",
          "name": "stdout",
          "text": [
            "36651\n"
          ]
        }
      ],
      "source": [
        "cv_df = CountVectorizer(tokenizer=custom_stem_tokenizer, max_df=7000).fit(X_train[\"OriginalTweet\"])\n",
        "\n",
        "print(len(cv_df.vocabulary_))\n",
        "\n",
        "#Значение достаточно большое потому что слов с большой частотой мало"
      ]
    },
    {
      "cell_type": "code",
      "execution_count": 33,
      "metadata": {
        "colab": {
          "base_uri": "https://localhost:8080/"
        },
        "id": "9OKMbE53zgsK",
        "outputId": "2eae0078-b991-491c-d934-4684643dce55"
      },
      "outputs": [
        {
          "output_type": "stream",
          "name": "stdout",
          "text": [
            "3700\n"
          ]
        }
      ],
      "source": [
        "cv_df = CountVectorizer(tokenizer=custom_stem_tokenizer, min_df=11).fit(X_train[\"OriginalTweet\"])\n",
        "\n",
        "print(len(cv_df.vocabulary_))\n",
        "\n",
        "#Очевидно, что многие слова встречаются очень редко. Поэтому min_df=11 сильно урезает словарь"
      ]
    },
    {
      "cell_type": "code",
      "execution_count": 34,
      "metadata": {
        "id": "b_GgFfR-3Iqx",
        "colab": {
          "base_uri": "https://localhost:8080/"
        },
        "outputId": "1239fcb4-4ef0-4b88-c0f6-6c5df25c175f"
      },
      "outputs": [
        {
          "output_type": "stream",
          "name": "stdout",
          "text": [
            "Accuraccy на CountVectorizer (train):  0.929\n",
            "Accuraccy на CountVectorizer (test):  0.868\n"
          ]
        }
      ],
      "source": [
        "log_reg = LogisticRegression(max_iter=250)\n",
        "\n",
        "res_train = cv_df.transform(X_train[\"OriginalTweet\"])\n",
        "res_test = cv_df.transform(X_test[\"OriginalTweet\"])\n",
        "\n",
        "log_reg.fit(res_train, X_train[\"Sentiment\"])\n",
        "\n",
        "print(\"Accuraccy на CountVectorizer (train): \", round(accuracy_score(X_train[\"Sentiment\"], log_reg.predict(res_train)),3))\n",
        "print(\"Accuraccy на CountVectorizer (test): \", round(accuracy_score(X_test[\"Sentiment\"], log_reg.predict(res_test)), 3))"
      ]
    },
    {
      "cell_type": "code",
      "execution_count": 35,
      "metadata": {
        "id": "LtSPlkX87yjn",
        "colab": {
          "base_uri": "https://localhost:8080/"
        },
        "outputId": "8106119c-0b4f-4f65-9038-c491956c1bed"
      },
      "outputs": [
        {
          "output_type": "stream",
          "name": "stdout",
          "text": [
            "Accuraccy на CountVectorizer (train):  0.942\n",
            "Accuraccy на CountVectorizer (test):  0.847\n"
          ]
        }
      ],
      "source": [
        "scaler = StandardScaler(with_mean=False)\n",
        "\n",
        "res_train = scaler.fit_transform(res_train)\n",
        "res_test = scaler.fit_transform(res_test)\n",
        "\n",
        "log_reg.fit(res_train, X_train[\"Sentiment\"])\n",
        "\n",
        "print(\"Accuraccy на CountVectorizer (train): \", round(accuracy_score(X_train[\"Sentiment\"], log_reg.predict(res_train)),3))\n",
        "print(\"Accuraccy на CountVectorizer (test): \", round(accuracy_score(X_test[\"Sentiment\"], log_reg.predict(res_test)), 3))"
      ]
    },
    {
      "cell_type": "code",
      "execution_count": 36,
      "metadata": {
        "id": "YBWE7UPEAPvq"
      },
      "outputs": [],
      "source": [
        "pos10 = np.argpartition(log_reg.coef_[0], -10)[-10:]\n",
        "neg10 = np.argpartition(log_reg.coef_[0], 10)[:10]"
      ]
    },
    {
      "cell_type": "code",
      "execution_count": 37,
      "metadata": {
        "id": "TKcsFfZOEgic",
        "colab": {
          "base_uri": "https://localhost:8080/",
          "height": 487
        },
        "outputId": "75707c51-c43c-4944-e8b6-9749bcb9dc12"
      },
      "outputs": [
        {
          "output_type": "display_data",
          "data": {
            "text/plain": [
              "<Figure size 1500x500 with 1 Axes>"
            ],
            "image/png": "[encoded data removed]"
          },
          "metadata": {}
        }
      ],
      "source": [
        "plt.figure(figsize=(15, 5))\n",
        "plt.title(\"Most important tokens\")\n",
        "\n",
        "lt = sorted(np.hstack([neg10, pos10]), key=lambda x: log_reg.coef_.reshape(-1)[x])\n",
        "\n",
        "sns.barplot(x=cv_df.get_feature_names_out()[lt], y=log_reg.coef_.reshape(-1)[lt])\n",
        "plt.xlabel(\"Tokens\")\n",
        "plt.ylabel(\"Coefficient\")\n",
        "\n",
        "plt.show()\n",
        "\n",
        "#нууууу, определилось неплохо"
      ]
    },
    {
      "cell_type": "markdown",
      "metadata": {
        "id": "PcHhEtR1OABF"
      },
      "source": [
        "#Ex. 7 Other fetures"
      ]
    },
    {
      "cell_type": "code",
      "execution_count": 38,
      "metadata": {
        "id": "OdIvxH0xOVeD"
      },
      "outputs": [],
      "source": [
        "df[\"TweetAt\"] = df[\"TweetAt\"].apply(lambda x: datetime.strptime(x, '%d-%m-%Y'))"
      ]
    },
    {
      "cell_type": "code",
      "execution_count": 39,
      "metadata": {
        "id": "Qz89gPg9ytLU",
        "colab": {
          "base_uri": "https://localhost:8080/"
        },
        "outputId": "6ccd350c-8d78-437f-832b-d682b0e36156"
      },
      "outputs": [
        {
          "output_type": "execute_result",
          "data": {
            "text/plain": [
              "[Timestamp('2020-03-16 00:00:00'),\n",
              " Timestamp('2020-03-17 00:00:00'),\n",
              " Timestamp('2020-03-18 00:00:00'),\n",
              " Timestamp('2020-03-19 00:00:00'),\n",
              " Timestamp('2020-03-20 00:00:00'),\n",
              " Timestamp('2020-03-21 00:00:00'),\n",
              " Timestamp('2020-03-22 00:00:00'),\n",
              " Timestamp('2020-03-23 00:00:00'),\n",
              " Timestamp('2020-03-24 00:00:00'),\n",
              " Timestamp('2020-03-25 00:00:00'),\n",
              " Timestamp('2020-03-26 00:00:00'),\n",
              " Timestamp('2020-03-27 00:00:00'),\n",
              " Timestamp('2020-03-28 00:00:00'),\n",
              " Timestamp('2020-03-29 00:00:00'),\n",
              " Timestamp('2020-03-30 00:00:00'),\n",
              " Timestamp('2020-03-31 00:00:00'),\n",
              " Timestamp('2020-04-01 00:00:00'),\n",
              " Timestamp('2020-04-02 00:00:00'),\n",
              " Timestamp('2020-04-03 00:00:00'),\n",
              " Timestamp('2020-04-04 00:00:00'),\n",
              " Timestamp('2020-04-05 00:00:00'),\n",
              " Timestamp('2020-04-06 00:00:00'),\n",
              " Timestamp('2020-04-07 00:00:00'),\n",
              " Timestamp('2020-04-08 00:00:00'),\n",
              " Timestamp('2020-04-09 00:00:00'),\n",
              " Timestamp('2020-04-10 00:00:00'),\n",
              " Timestamp('2020-04-11 00:00:00'),\n",
              " Timestamp('2020-04-12 00:00:00'),\n",
              " Timestamp('2020-04-13 00:00:00'),\n",
              " Timestamp('2020-04-14 00:00:00')]"
            ]
          },
          "metadata": {},
          "execution_count": 39
        }
      ],
      "source": [
        "sorted(df[\"TweetAt\"].unique())"
      ]
    },
    {
      "cell_type": "code",
      "execution_count": 40,
      "metadata": {
        "id": "T68qomzTzHPu",
        "colab": {
          "base_uri": "https://localhost:8080/",
          "height": 465
        },
        "outputId": "b6c0079b-e70c-487c-f916-236a36f41777"
      },
      "outputs": [
        {
          "output_type": "display_data",
          "data": {
            "text/plain": [
              "<Figure size 1500x500 with 1 Axes>"
            ],
            "image/png": "[encoded data removed]"
          },
          "metadata": {}
        }
      ],
      "source": [
        "plt.figure(figsize=(15, 5))\n",
        "sns.histplot(data=df, x='TweetAt', hue=\"Sentiment\", stat=\"count\")\n",
        "\n",
        "plt.show()\n",
        "\n",
        "#первые два столбца очевидно бесполезны, время как оказалось тоже, каждый день примерно одиновоко много плохих и хороших твитов"
      ]
    },
    {
      "cell_type": "code",
      "execution_count": 41,
      "metadata": {
        "id": "EcllS_vwz37w",
        "colab": {
          "base_uri": "https://localhost:8080/"
        },
        "outputId": "73831629-e6cc-497d-ca51-c078da3d41db"
      },
      "outputs": [
        {
          "output_type": "execute_result",
          "data": {
            "text/plain": [
              "10465"
            ]
          },
          "metadata": {},
          "execution_count": 41
        }
      ],
      "source": [
        "len(df[\"Location\"].unique())"
      ]
    },
    {
      "cell_type": "code",
      "execution_count": 42,
      "metadata": {
        "id": "DlSyQAEc-bEL",
        "colab": {
          "base_uri": "https://localhost:8080/"
        },
        "outputId": "45a41aab-0b22-42c4-e5cb-7376fcbd6d4e"
      },
      "outputs": [
        {
          "output_type": "execute_result",
          "data": {
            "text/plain": [
              "Index(['London', 'United States', 'London, England', 'Washington, DC',\n",
              "       'New York, NY', 'United Kingdom', 'Los Angeles, CA', 'India', 'UK',\n",
              "       'USA'],\n",
              "      dtype='object', name='Location')"
            ]
          },
          "metadata": {},
          "execution_count": 42
        }
      ],
      "source": [
        "df[\"Location\"].value_counts()[1:11].index"
      ]
    },
    {
      "cell_type": "code",
      "execution_count": 43,
      "metadata": {
        "id": "XT3XpPsN3dya",
        "colab": {
          "base_uri": "https://localhost:8080/",
          "height": 560
        },
        "outputId": "a8fd95e3-cdf7-467d-c1aa-eed1136b3ae5"
      },
      "outputs": [
        {
          "output_type": "execute_result",
          "data": {
            "text/plain": [
              "<Axes: xlabel='Location', ylabel='Count'>"
            ]
          },
          "metadata": {},
          "execution_count": 43
        },
        {
          "output_type": "display_data",
          "data": {
            "text/plain": [
              "<Figure size 1500x600 with 1 Axes>"
            ],
            "image/png": "[encoded data removed]"
          },
          "metadata": {}
        }
      ],
      "source": [
        "plt.figure(figsize=(15, 6))\n",
        "\n",
        "sns.histplot(data=pd.DataFrame(df[df[\"Location\"].isin(df[\"Location\"].value_counts()[1:11].index)]),\n",
        "             x=\"Location\", color=\"purple\", shrink=.5)"
      ]
    },
    {
      "cell_type": "code",
      "execution_count": 44,
      "metadata": {
        "id": "9PfsHNiB92XN"
      },
      "outputs": [],
      "source": [
        "df[\"WiderLocation\"] = df[\"Location\"].apply(lambda x: x.split(\",\")[-1])"
      ]
    },
    {
      "cell_type": "code",
      "execution_count": 45,
      "metadata": {
        "id": "SQ4NZD0AHlsd",
        "colab": {
          "base_uri": "https://localhost:8080/",
          "height": 560
        },
        "outputId": "520809b1-a110-444d-8095-138c0a8a997d"
      },
      "outputs": [
        {
          "output_type": "execute_result",
          "data": {
            "text/plain": [
              "<Axes: xlabel='WiderLocation', ylabel='Count'>"
            ]
          },
          "metadata": {},
          "execution_count": 45
        },
        {
          "output_type": "display_data",
          "data": {
            "text/plain": [
              "<Figure size 1500x600 with 1 Axes>"
            ],
            "image/png": "[encoded data removed]"
          },
          "metadata": {}
        }
      ],
      "source": [
        "plt.figure(figsize=(15, 6))\n",
        "\n",
        "sns.histplot(data=pd.DataFrame(df[df[\"WiderLocation\"].isin(df[\"WiderLocation\"].value_counts()[1:11].index)]),\n",
        "             x=\"WiderLocation\", color=\"purple\", shrink=.5)"
      ]
    },
    {
      "cell_type": "code",
      "execution_count": 46,
      "metadata": {
        "id": "iNqF_WKlHrg0",
        "colab": {
          "base_uri": "https://localhost:8080/"
        },
        "outputId": "d2a6f799-952e-4324-a991-3b06208aa83a"
      },
      "outputs": [
        {
          "output_type": "stream",
          "name": "stderr",
          "text": [
            "/usr/local/lib/python3.10/dist-packages/sklearn/preprocessing/_encoders.py:868: FutureWarning: `sparse` was renamed to `sparse_output` in version 1.2 and will be removed in 1.4. `sparse_output` is ignored unless you leave `sparse` to its default value.\n",
            "  warnings.warn(\n"
          ]
        }
      ],
      "source": [
        "loc = (df[\"WiderLocation\"].value_counts())[df[\"WiderLocation\"].value_counts() > 1].index[1:]\n",
        "\n",
        "ohe = OneHotEncoder(sparse=False)\n",
        "res = ohe.fit_transform(df[[\"WiderLocation\"]])\n",
        "\n",
        "res = pd.DataFrame(res, columns=ohe.get_feature_names_out([\"WiderLocation\"]))[list(map((lambda x: \"WiderLocation_\" + x), loc.tolist()))]"
      ]
    },
    {
      "cell_type": "code",
      "execution_count": 47,
      "metadata": {
        "id": "zca0B0XHWVTh"
      },
      "outputs": [],
      "source": [
        "X_train, X_test = train_test_split(df, train_size=0.7, random_state=0)"
      ]
    },
    {
      "cell_type": "code",
      "execution_count": 48,
      "metadata": {
        "id": "HQMRP6nhKFmJ",
        "colab": {
          "base_uri": "https://localhost:8080/"
        },
        "outputId": "3d48018b-152c-44d1-ef81-ce6350b984ff"
      },
      "outputs": [
        {
          "output_type": "stream",
          "name": "stdout",
          "text": [
            "Accuraccy на CountVectorizer (train):  0.949\n",
            "Accuraccy на CountVectorizer (test):  0.846\n"
          ]
        },
        {
          "output_type": "stream",
          "name": "stderr",
          "text": [
            "/usr/local/lib/python3.10/dist-packages/sklearn/linear_model/_logistic.py:458: ConvergenceWarning: lbfgs failed to converge (status=1):\n",
            "STOP: TOTAL NO. of ITERATIONS REACHED LIMIT.\n",
            "\n",
            "Increase the number of iterations (max_iter) or scale the data as shown in:\n",
            "    https://scikit-learn.org/stable/modules/preprocessing.html\n",
            "Please also refer to the documentation for alternative solver options:\n",
            "    https://scikit-learn.org/stable/modules/linear_model.html#logistic-regression\n",
            "  n_iter_i = _check_optimize_result(\n"
          ]
        }
      ],
      "source": [
        "log_reg = LogisticRegression(max_iter=250)\n",
        "\n",
        "res_train_new = hstack((res_train, ohe.transform(X_train[[\"WiderLocation\"]])))\n",
        "res_test_new = hstack((res_test, ohe.transform(X_test[[\"WiderLocation\"]])))\n",
        "\n",
        "log_reg.fit(res_train_new, X_train[\"Sentiment\"])\n",
        "\n",
        "print(\"Accuraccy на CountVectorizer (train): \", round(accuracy_score(X_train[\"Sentiment\"], log_reg.predict(res_train_new)),3))\n",
        "print(\"Accuraccy на CountVectorizer (test): \", round(accuracy_score(X_test[\"Sentiment\"], log_reg.predict(res_test_new)), 3))\n",
        "\n",
        "#Я безумно ненавижу 7 задание. А вообще, даже по логике место не сильно влияет на результат.\n",
        "#Все таки ситуация в западных странах была примерно одинаковой"
      ]
    },
    {
      "cell_type": "markdown",
      "metadata": {
        "id": "9VG-Sy5MWV_8"
      },
      "source": [
        "#Ex. 8 Bonus"
      ]
    },
    {
      "cell_type": "code",
      "execution_count": 49,
      "metadata": {
        "id": "uGmdRqzKWYGh"
      },
      "outputs": [],
      "source": [
        "X_train, X_test = train_test_split(df, train_size=0.7, random_state=0, stratify=df[\"Sentiment\"])"
      ]
    },
    {
      "cell_type": "code",
      "execution_count": 50,
      "metadata": {
        "id": "NhdOu_rXrD_W"
      },
      "outputs": [],
      "source": [
        "def custom_bonus_tokenizer(text):\n",
        "  ##to_lower()\n",
        "  text = text.lower()\n",
        "\n",
        "  stemmer = SnowballStemmer(language=\"english\")\n",
        "\n",
        "  #tokenization\n",
        "  tk = TweetTokenizer()\n",
        "  tokens = tk.tokenize(text)\n",
        "\n",
        "  #changing\n",
        "  tokens = [stemmer.stem(i) for i in tokens if not(len(i) == 1 and ord(i) >= 128 or\n",
        "                                     i in punctuation or i == \"…\" or\n",
        "                                     i[:13] == \"https://t.co/\" or\n",
        "                                     i in stopwords.words('english'))]\n",
        "\n",
        "  return tokens"
      ]
    },
    {
      "cell_type": "code",
      "execution_count": 51,
      "metadata": {
        "id": "_pzwPGxNX6mE"
      },
      "outputs": [],
      "source": [
        "reg_bonus = LogisticRegression(max_iter=500)\n",
        "tfid_bonus = CountVectorizer(tokenizer=custom_bonus_tokenizer, min_df=3, max_df=4500)\n",
        "# sc_bonus = StandardScaler(with_mean=False)"
      ]
    },
    {
      "cell_type": "code",
      "execution_count": 52,
      "metadata": {
        "id": "-Rct3I2ZX9Jw",
        "colab": {
          "base_uri": "https://localhost:8080/",
          "height": 127
        },
        "outputId": "2ec08a91-29ed-47c4-9df3-95916ba17047"
      },
      "outputs": [
        {
          "output_type": "stream",
          "name": "stderr",
          "text": [
            "/usr/local/lib/python3.10/dist-packages/sklearn/feature_extraction/text.py:528: UserWarning: The parameter 'token_pattern' will not be used since 'tokenizer' is not None'\n",
            "  warnings.warn(\n"
          ]
        },
        {
          "output_type": "execute_result",
          "data": {
            "text/plain": [
              "CountVectorizer(max_df=4500, min_df=3,\n",
              "                tokenizer=<function custom_bonus_tokenizer at 0x7bf6ccb47130>)"
            ],
            "text/html": [
              "<style>#sk-container-id-2 {color: black;background-color: white;}#sk-container-id-2 pre{padding: 0;}#sk-container-id-2 div.sk-toggleable {background-color: white;}#sk-container-id-2 label.sk-toggleable__label {cursor: pointer;display: block;width: 100%;margin-bottom: 0;padding: 0.3em;box-sizing: border-box;text-align: center;}#sk-container-id-2 label.sk-toggleable__label-arrow:before {content: \"▸\";float: left;margin-right: 0.25em;color: #696969;}#sk-container-id-2 label.sk-toggleable__label-arrow:hover:before {color: black;}#sk-container-id-2 div.sk-estimator:hover label.sk-toggleable__label-arrow:before {color: black;}#sk-container-id-2 div.sk-toggleable__content {max-height: 0;max-width: 0;overflow: hidden;text-align: left;background-color: #f0f8ff;}#sk-container-id-2 div.sk-toggleable__content pre {margin: 0.2em;color: black;border-radius: 0.25em;background-color: #f0f8ff;}#sk-container-id-2 input.sk-toggleable__control:checked~div.sk-toggleable__content {max-height: 200px;max-width: 100%;overflow: auto;}#sk-container-id-2 input.sk-toggleable__control:checked~label.sk-toggleable__label-arrow:before {content: \"▾\";}#sk-container-id-2 div.sk-estimator input.sk-toggleable__control:checked~label.sk-toggleable__label {background-color: #d4ebff;}#sk-container-id-2 div.sk-label input.sk-toggleable__control:checked~label.sk-toggleable__label {background-color: #d4ebff;}#sk-container-id-2 input.sk-hidden--visually {border: 0;clip: rect(1px 1px 1px 1px);clip: rect(1px, 1px, 1px, 1px);height: 1px;margin: -1px;overflow: hidden;padding: 0;position: absolute;width: 1px;}#sk-container-id-2 div.sk-estimator {font-family: monospace;background-color: #f0f8ff;border: 1px dotted black;border-radius: 0.25em;box-sizing: border-box;margin-bottom: 0.5em;}#sk-container-id-2 div.sk-estimator:hover {background-color: #d4ebff;}#sk-container-id-2 div.sk-parallel-item::after {content: \"\";width: 100%;border-bottom: 1px solid gray;flex-grow: 1;}#sk-container-id-2 div.sk-label:hover label.sk-toggleable__label {background-color: #d4ebff;}#sk-container-id-2 div.sk-serial::before {content: \"\";position: absolute;border-left: 1px solid gray;box-sizing: border-box;top: 0;bottom: 0;left: 50%;z-index: 0;}#sk-container-id-2 div.sk-serial {display: flex;flex-direction: column;align-items: center;background-color: white;padding-right: 0.2em;padding-left: 0.2em;position: relative;}#sk-container-id-2 div.sk-item {position: relative;z-index: 1;}#sk-container-id-2 div.sk-parallel {display: flex;align-items: stretch;justify-content: center;background-color: white;position: relative;}#sk-container-id-2 div.sk-item::before, #sk-container-id-2 div.sk-parallel-item::before {content: \"\";position: absolute;border-left: 1px solid gray;box-sizing: border-box;top: 0;bottom: 0;left: 50%;z-index: -1;}#sk-container-id-2 div.sk-parallel-item {display: flex;flex-direction: column;z-index: 1;position: relative;background-color: white;}#sk-container-id-2 div.sk-parallel-item:first-child::after {align-self: flex-end;width: 50%;}#sk-container-id-2 div.sk-parallel-item:last-child::after {align-self: flex-start;width: 50%;}#sk-container-id-2 div.sk-parallel-item:only-child::after {width: 0;}#sk-container-id-2 div.sk-dashed-wrapped {border: 1px dashed gray;margin: 0 0.4em 0.5em 0.4em;box-sizing: border-box;padding-bottom: 0.4em;background-color: white;}#sk-container-id-2 div.sk-label label {font-family: monospace;font-weight: bold;display: inline-block;line-height: 1.2em;}#sk-container-id-2 div.sk-label-container {text-align: center;}#sk-container-id-2 div.sk-container {/* jupyter's `normalize.less` sets `[hidden] { display: none; }` but bootstrap.min.css set `[hidden] { display: none !important; }` so we also need the `!important` here to be able to override the default hidden behavior on the sphinx rendered scikit-learn.org. See: https://github.com/scikit-learn/scikit-learn/issues/21755 */display: inline-block !important;position: relative;}#sk-container-id-2 div.sk-text-repr-fallback {display: none;}</style><div id=\"sk-container-id-2\" class=\"sk-top-container\"><div class=\"sk-text-repr-fallback\"><pre>CountVectorizer(max_df=4500, min_df=3,\n",
              "                tokenizer=&lt;function custom_bonus_tokenizer at 0x7bf6ccb47130&gt;)</pre><b>In a Jupyter environment, please rerun this cell to show the HTML representation or trust the notebook. <br />On GitHub, the HTML representation is unable to render, please try loading this page with nbviewer.org.</b></div><div class=\"sk-container\" hidden><div class=\"sk-item\"><div class=\"sk-estimator sk-toggleable\"><input class=\"sk-toggleable__control sk-hidden--visually\" id=\"sk-estimator-id-2\" type=\"checkbox\" checked><label for=\"sk-estimator-id-2\" class=\"sk-toggleable__label sk-toggleable__label-arrow\">CountVectorizer</label><div class=\"sk-toggleable__content\"><pre>CountVectorizer(max_df=4500, min_df=3,\n",
              "                tokenizer=&lt;function custom_bonus_tokenizer at 0x7bf6ccb47130&gt;)</pre></div></div></div></div></div>"
            ]
          },
          "metadata": {},
          "execution_count": 52
        }
      ],
      "source": [
        "tfid_bonus.fit(X_train[\"OriginalTweet\"])"
      ]
    },
    {
      "cell_type": "code",
      "execution_count": 53,
      "metadata": {
        "id": "4JkueX87YAa0"
      },
      "outputs": [],
      "source": [
        "bonus_train = tfid_bonus.transform(X_train[\"OriginalTweet\"])\n",
        "bonus_test = tfid_bonus.transform(X_test[\"OriginalTweet\"])"
      ]
    },
    {
      "cell_type": "code",
      "execution_count": 54,
      "metadata": {
        "id": "ZXdTFCwxWsP2",
        "colab": {
          "base_uri": "https://localhost:8080/",
          "height": 74
        },
        "outputId": "bcbb8041-e898-4fef-ddbb-fc9c5bfcf108"
      },
      "outputs": [
        {
          "output_type": "execute_result",
          "data": {
            "text/plain": [
              "LogisticRegression(max_iter=500)"
            ],
            "text/html": [
              "<style>#sk-container-id-3 {color: black;background-color: white;}#sk-container-id-3 pre{padding: 0;}#sk-container-id-3 div.sk-toggleable {background-color: white;}#sk-container-id-3 label.sk-toggleable__label {cursor: pointer;display: block;width: 100%;margin-bottom: 0;padding: 0.3em;box-sizing: border-box;text-align: center;}#sk-container-id-3 label.sk-toggleable__label-arrow:before {content: \"▸\";float: left;margin-right: 0.25em;color: #696969;}#sk-container-id-3 label.sk-toggleable__label-arrow:hover:before {color: black;}#sk-container-id-3 div.sk-estimator:hover label.sk-toggleable__label-arrow:before {color: black;}#sk-container-id-3 div.sk-toggleable__content {max-height: 0;max-width: 0;overflow: hidden;text-align: left;background-color: #f0f8ff;}#sk-container-id-3 div.sk-toggleable__content pre {margin: 0.2em;color: black;border-radius: 0.25em;background-color: #f0f8ff;}#sk-container-id-3 input.sk-toggleable__control:checked~div.sk-toggleable__content {max-height: 200px;max-width: 100%;overflow: auto;}#sk-container-id-3 input.sk-toggleable__control:checked~label.sk-toggleable__label-arrow:before {content: \"▾\";}#sk-container-id-3 div.sk-estimator input.sk-toggleable__control:checked~label.sk-toggleable__label {background-color: #d4ebff;}#sk-container-id-3 div.sk-label input.sk-toggleable__control:checked~label.sk-toggleable__label {background-color: #d4ebff;}#sk-container-id-3 input.sk-hidden--visually {border: 0;clip: rect(1px 1px 1px 1px);clip: rect(1px, 1px, 1px, 1px);height: 1px;margin: -1px;overflow: hidden;padding: 0;position: absolute;width: 1px;}#sk-container-id-3 div.sk-estimator {font-family: monospace;background-color: #f0f8ff;border: 1px dotted black;border-radius: 0.25em;box-sizing: border-box;margin-bottom: 0.5em;}#sk-container-id-3 div.sk-estimator:hover {background-color: #d4ebff;}#sk-container-id-3 div.sk-parallel-item::after {content: \"\";width: 100%;border-bottom: 1px solid gray;flex-grow: 1;}#sk-container-id-3 div.sk-label:hover label.sk-toggleable__label {background-color: #d4ebff;}#sk-container-id-3 div.sk-serial::before {content: \"\";position: absolute;border-left: 1px solid gray;box-sizing: border-box;top: 0;bottom: 0;left: 50%;z-index: 0;}#sk-container-id-3 div.sk-serial {display: flex;flex-direction: column;align-items: center;background-color: white;padding-right: 0.2em;padding-left: 0.2em;position: relative;}#sk-container-id-3 div.sk-item {position: relative;z-index: 1;}#sk-container-id-3 div.sk-parallel {display: flex;align-items: stretch;justify-content: center;background-color: white;position: relative;}#sk-container-id-3 div.sk-item::before, #sk-container-id-3 div.sk-parallel-item::before {content: \"\";position: absolute;border-left: 1px solid gray;box-sizing: border-box;top: 0;bottom: 0;left: 50%;z-index: -1;}#sk-container-id-3 div.sk-parallel-item {display: flex;flex-direction: column;z-index: 1;position: relative;background-color: white;}#sk-container-id-3 div.sk-parallel-item:first-child::after {align-self: flex-end;width: 50%;}#sk-container-id-3 div.sk-parallel-item:last-child::after {align-self: flex-start;width: 50%;}#sk-container-id-3 div.sk-parallel-item:only-child::after {width: 0;}#sk-container-id-3 div.sk-dashed-wrapped {border: 1px dashed gray;margin: 0 0.4em 0.5em 0.4em;box-sizing: border-box;padding-bottom: 0.4em;background-color: white;}#sk-container-id-3 div.sk-label label {font-family: monospace;font-weight: bold;display: inline-block;line-height: 1.2em;}#sk-container-id-3 div.sk-label-container {text-align: center;}#sk-container-id-3 div.sk-container {/* jupyter's `normalize.less` sets `[hidden] { display: none; }` but bootstrap.min.css set `[hidden] { display: none !important; }` so we also need the `!important` here to be able to override the default hidden behavior on the sphinx rendered scikit-learn.org. See: https://github.com/scikit-learn/scikit-learn/issues/21755 */display: inline-block !important;position: relative;}#sk-container-id-3 div.sk-text-repr-fallback {display: none;}</style><div id=\"sk-container-id-3\" class=\"sk-top-container\"><div class=\"sk-text-repr-fallback\"><pre>LogisticRegression(max_iter=500)</pre><b>In a Jupyter environment, please rerun this cell to show the HTML representation or trust the notebook. <br />On GitHub, the HTML representation is unable to render, please try loading this page with nbviewer.org.</b></div><div class=\"sk-container\" hidden><div class=\"sk-item\"><div class=\"sk-estimator sk-toggleable\"><input class=\"sk-toggleable__control sk-hidden--visually\" id=\"sk-estimator-id-3\" type=\"checkbox\" checked><label for=\"sk-estimator-id-3\" class=\"sk-toggleable__label sk-toggleable__label-arrow\">LogisticRegression</label><div class=\"sk-toggleable__content\"><pre>LogisticRegression(max_iter=500)</pre></div></div></div></div></div>"
            ]
          },
          "metadata": {},
          "execution_count": 54
        }
      ],
      "source": [
        "# sc_bonus.fit(bonus_train)\n",
        "# bonus_train = sc_bonus.transform(bonus_train)\n",
        "# bonus_test = sc_bonus.transform(bonus_test)\n",
        "\n",
        "reg_bonus.fit(bonus_train, X_train[\"Sentiment\"])"
      ]
    },
    {
      "cell_type": "code",
      "execution_count": 55,
      "metadata": {
        "id": "iC4FMziQYGRR",
        "colab": {
          "base_uri": "https://localhost:8080/"
        },
        "outputId": "49c1d49c-df46-4ee5-da95-20e6c9dbaa2c"
      },
      "outputs": [
        {
          "output_type": "stream",
          "name": "stdout",
          "text": [
            "Accuraccy на CountVectorizer (train):  0.952\n",
            "Accuraccy на CountVectorizer (test):  0.869\n"
          ]
        }
      ],
      "source": [
        "print(\"Accuraccy на CountVectorizer (train): \", round(accuracy_score(X_train[\"Sentiment\"], reg_bonus.predict(bonus_train)),3))\n",
        "print(\"Accuraccy на CountVectorizer (test): \", round(accuracy_score(X_test[\"Sentiment\"], reg_bonus.predict(bonus_test)), 3))"
      ]
    },
    {
      "cell_type": "code",
      "execution_count": null,
      "metadata": {
        "id": "QjY1oSenbjUa"
      },
      "outputs": [],
      "source": []
    }
  ],
  "metadata": {
    "colab": {
      "collapsed_sections": [
        "g8Pw_NtuSEid",
        "Z149-J3QfE1p",
        "45vanTkpj8JF",
        "i3nTnLBkaA1w",
        "_JrKDPRWOL4N"
      ],
      "provenance": []
    },
    "kernelspec": {
      "display_name": "Python 3",
      "name": "python3"
    },
    "language_info": {
      "name": "python"
    }
  },
  "nbformat": 4,
  "nbformat_minor": 0
}